{
 "cells": [
  {
   "cell_type": "markdown",
   "metadata": {},
   "source": [
    "# Classifications of South African Crimes based on Severity\n",
    "##### Severity Scale Ranks crimes from minor to serious crimes based on given data"
   ]
  },
  {
   "cell_type": "markdown",
   "metadata": {},
   "source": [
    "## Import Libraries"
   ]
  },
  {
   "cell_type": "code",
   "execution_count": 3,
   "metadata": {},
   "outputs": [],
   "source": [
    "# Default Libraries\n",
    "import csv\n",
    "import numpy as np\n",
    "import pandas as pd\n",
    "import matplotlib.pyplot as plt\n",
    "import seaborn as sns\n",
    "sns.set_style('whitegrid')\n",
    "%matplotlib inline\n",
    "\n",
    "# Classification Libraries\n",
    "import nltk\n",
    "from nltk.util import ngrams\n",
    "from sklearn.svm import LinearSVC\n",
    "from sklearn.pipeline import Pipeline\n",
    "from nltk.classify import MaxentClassifier\n",
    "from nltk.stem.snowball import SnowballStemmer\n",
    "from nltk.classify.scikitlearn import SklearnClassifier\n",
    "from sklearn.feature_extraction.text import TfidfTransformer"
   ]
  },
  {
   "cell_type": "markdown",
   "metadata": {},
   "source": [
    "### Load Data"
   ]
  },
  {
   "cell_type": "code",
   "execution_count": 4,
   "metadata": {},
   "outputs": [
    {
     "name": "stderr",
     "output_type": "stream",
     "text": [
      "/tmp/ipykernel_1999/3139093294.py:4: FutureWarning: Dropping of nuisance columns in DataFrame reductions (with 'numeric_only=None') is deprecated; in a future version this will raise TypeError.  Select only valid columns before calling the reduction.\n",
      "  crime_stats['Total 2005-2016'] = crime_stats.sum(axis=1)\n"
     ]
    },
    {
     "data": {
      "text/html": [
       "<div>\n",
       "<style scoped>\n",
       "    .dataframe tbody tr th:only-of-type {\n",
       "        vertical-align: middle;\n",
       "    }\n",
       "\n",
       "    .dataframe tbody tr th {\n",
       "        vertical-align: top;\n",
       "    }\n",
       "\n",
       "    .dataframe thead th {\n",
       "        text-align: right;\n",
       "    }\n",
       "</style>\n",
       "<table border=\"1\" class=\"dataframe\">\n",
       "  <thead>\n",
       "    <tr style=\"text-align: right;\">\n",
       "      <th></th>\n",
       "      <th>Province</th>\n",
       "      <th>Station</th>\n",
       "      <th>Category</th>\n",
       "      <th>2005-2006</th>\n",
       "      <th>2006-2007</th>\n",
       "      <th>2007-2008</th>\n",
       "      <th>2008-2009</th>\n",
       "      <th>2009-2010</th>\n",
       "      <th>2010-2011</th>\n",
       "      <th>2011-2012</th>\n",
       "      <th>2012-2013</th>\n",
       "      <th>2013-2014</th>\n",
       "      <th>2014-2015</th>\n",
       "      <th>2015-2016</th>\n",
       "      <th>Total 2005-2016</th>\n",
       "    </tr>\n",
       "  </thead>\n",
       "  <tbody>\n",
       "    <tr>\n",
       "      <th>0</th>\n",
       "      <td>Western Cape</td>\n",
       "      <td>Cape Town Central</td>\n",
       "      <td>All theft not mentioned elsewhere</td>\n",
       "      <td>6692</td>\n",
       "      <td>6341</td>\n",
       "      <td>5966</td>\n",
       "      <td>5187</td>\n",
       "      <td>4985</td>\n",
       "      <td>5127</td>\n",
       "      <td>5285</td>\n",
       "      <td>5937</td>\n",
       "      <td>5600</td>\n",
       "      <td>5335</td>\n",
       "      <td>5176</td>\n",
       "      <td>61631</td>\n",
       "    </tr>\n",
       "    <tr>\n",
       "      <th>1</th>\n",
       "      <td>Gauteng</td>\n",
       "      <td>Jhb Central</td>\n",
       "      <td>All theft not mentioned elsewhere</td>\n",
       "      <td>6093</td>\n",
       "      <td>4602</td>\n",
       "      <td>3761</td>\n",
       "      <td>3610</td>\n",
       "      <td>3267</td>\n",
       "      <td>3037</td>\n",
       "      <td>2886</td>\n",
       "      <td>2638</td>\n",
       "      <td>2809</td>\n",
       "      <td>3050</td>\n",
       "      <td>2434</td>\n",
       "      <td>38187</td>\n",
       "    </tr>\n",
       "    <tr>\n",
       "      <th>2</th>\n",
       "      <td>Western Cape</td>\n",
       "      <td>Mitchells Plain</td>\n",
       "      <td>All theft not mentioned elsewhere</td>\n",
       "      <td>5341</td>\n",
       "      <td>6093</td>\n",
       "      <td>6316</td>\n",
       "      <td>6803</td>\n",
       "      <td>6035</td>\n",
       "      <td>5761</td>\n",
       "      <td>6108</td>\n",
       "      <td>5514</td>\n",
       "      <td>4975</td>\n",
       "      <td>4043</td>\n",
       "      <td>3635</td>\n",
       "      <td>60624</td>\n",
       "    </tr>\n",
       "    <tr>\n",
       "      <th>3</th>\n",
       "      <td>Free State</td>\n",
       "      <td>Park Road</td>\n",
       "      <td>All theft not mentioned elsewhere</td>\n",
       "      <td>5108</td>\n",
       "      <td>4282</td>\n",
       "      <td>3834</td>\n",
       "      <td>3316</td>\n",
       "      <td>3101</td>\n",
       "      <td>3013</td>\n",
       "      <td>2679</td>\n",
       "      <td>3116</td>\n",
       "      <td>2927</td>\n",
       "      <td>2297</td>\n",
       "      <td>2103</td>\n",
       "      <td>35776</td>\n",
       "    </tr>\n",
       "    <tr>\n",
       "      <th>4</th>\n",
       "      <td>Gauteng</td>\n",
       "      <td>Pretoria Central</td>\n",
       "      <td>All theft not mentioned elsewhere</td>\n",
       "      <td>5099</td>\n",
       "      <td>4536</td>\n",
       "      <td>3309</td>\n",
       "      <td>2694</td>\n",
       "      <td>2616</td>\n",
       "      <td>2606</td>\n",
       "      <td>2635</td>\n",
       "      <td>3226</td>\n",
       "      <td>3246</td>\n",
       "      <td>2892</td>\n",
       "      <td>3030</td>\n",
       "      <td>35889</td>\n",
       "    </tr>\n",
       "  </tbody>\n",
       "</table>\n",
       "</div>"
      ],
      "text/plain": [
       "       Province            Station                           Category  \\\n",
       "0  Western Cape  Cape Town Central  All theft not mentioned elsewhere   \n",
       "1       Gauteng        Jhb Central  All theft not mentioned elsewhere   \n",
       "2  Western Cape    Mitchells Plain  All theft not mentioned elsewhere   \n",
       "3    Free State          Park Road  All theft not mentioned elsewhere   \n",
       "4       Gauteng   Pretoria Central  All theft not mentioned elsewhere   \n",
       "\n",
       "   2005-2006  2006-2007  2007-2008  2008-2009  2009-2010  2010-2011  \\\n",
       "0       6692       6341       5966       5187       4985       5127   \n",
       "1       6093       4602       3761       3610       3267       3037   \n",
       "2       5341       6093       6316       6803       6035       5761   \n",
       "3       5108       4282       3834       3316       3101       3013   \n",
       "4       5099       4536       3309       2694       2616       2606   \n",
       "\n",
       "   2011-2012  2012-2013  2013-2014  2014-2015  2015-2016  Total 2005-2016  \n",
       "0       5285       5937       5600       5335       5176            61631  \n",
       "1       2886       2638       2809       3050       2434            38187  \n",
       "2       6108       5514       4975       4043       3635            60624  \n",
       "3       2679       3116       2927       2297       2103            35776  \n",
       "4       2635       3226       3246       2892       3030            35889  "
      ]
     },
     "execution_count": 4,
     "metadata": {},
     "output_type": "execute_result"
    }
   ],
   "source": [
    "# Read CSV File and Add Totals Column \n",
    "population_stats = pd.read_csv('../Data Storage/Crime Stats-za/ProvincePopulation.csv').sort_values('Population',ascending=False)\n",
    "crime_stats = pd.read_csv('../Data Storage/Crime Stats-za/SouthAfricaCrimeStats_v2.csv')\n",
    "crime_stats['Total 2005-2016'] = crime_stats.sum(axis=1)\n",
    "crime_stats.head()"
   ]
  },
  {
   "cell_type": "markdown",
   "metadata": {},
   "source": [
    "### Drop unwanted Category"
   ]
  },
  {
   "cell_type": "code",
   "execution_count": 9,
   "metadata": {},
   "outputs": [],
   "source": [
    "crime_stats = crime_stats[crime_stats.Category != 'All theft not mentioned elsewhere']"
   ]
  },
  {
   "cell_type": "code",
   "execution_count": 10,
   "metadata": {},
   "outputs": [
    {
     "data": {
      "text/html": [
       "<div>\n",
       "<style scoped>\n",
       "    .dataframe tbody tr th:only-of-type {\n",
       "        vertical-align: middle;\n",
       "    }\n",
       "\n",
       "    .dataframe tbody tr th {\n",
       "        vertical-align: top;\n",
       "    }\n",
       "\n",
       "    .dataframe thead th {\n",
       "        text-align: right;\n",
       "    }\n",
       "</style>\n",
       "<table border=\"1\" class=\"dataframe\">\n",
       "  <thead>\n",
       "    <tr style=\"text-align: right;\">\n",
       "      <th></th>\n",
       "      <th>Province</th>\n",
       "      <th>Station</th>\n",
       "      <th>Category</th>\n",
       "      <th>2005-2006</th>\n",
       "      <th>2006-2007</th>\n",
       "      <th>2007-2008</th>\n",
       "      <th>2008-2009</th>\n",
       "      <th>2009-2010</th>\n",
       "      <th>2010-2011</th>\n",
       "      <th>2011-2012</th>\n",
       "      <th>2012-2013</th>\n",
       "      <th>2013-2014</th>\n",
       "      <th>2014-2015</th>\n",
       "      <th>2015-2016</th>\n",
       "      <th>Total 2005-2016</th>\n",
       "    </tr>\n",
       "  </thead>\n",
       "  <tbody>\n",
       "    <tr>\n",
       "      <th>11</th>\n",
       "      <td>Western Cape</td>\n",
       "      <td>Cape Town Central</td>\n",
       "      <td>Theft out of or from motor vehicle</td>\n",
       "      <td>3468</td>\n",
       "      <td>2924</td>\n",
       "      <td>2329</td>\n",
       "      <td>1856</td>\n",
       "      <td>2905</td>\n",
       "      <td>3051</td>\n",
       "      <td>3474</td>\n",
       "      <td>3294</td>\n",
       "      <td>3612</td>\n",
       "      <td>3441</td>\n",
       "      <td>3509</td>\n",
       "      <td>33863</td>\n",
       "    </tr>\n",
       "    <tr>\n",
       "      <th>12</th>\n",
       "      <td>Western Cape</td>\n",
       "      <td>Mitchells Plain</td>\n",
       "      <td>Drug-related crime</td>\n",
       "      <td>3064</td>\n",
       "      <td>3683</td>\n",
       "      <td>4792</td>\n",
       "      <td>5699</td>\n",
       "      <td>6571</td>\n",
       "      <td>6260</td>\n",
       "      <td>5850</td>\n",
       "      <td>6310</td>\n",
       "      <td>6044</td>\n",
       "      <td>4768</td>\n",
       "      <td>4609</td>\n",
       "      <td>57650</td>\n",
       "    </tr>\n",
       "    <tr>\n",
       "      <th>17</th>\n",
       "      <td>Kwazulu/Natal</td>\n",
       "      <td>Durban Central</td>\n",
       "      <td>Robbery with aggravating circumstances</td>\n",
       "      <td>2721</td>\n",
       "      <td>3214</td>\n",
       "      <td>2134</td>\n",
       "      <td>1966</td>\n",
       "      <td>1371</td>\n",
       "      <td>899</td>\n",
       "      <td>924</td>\n",
       "      <td>885</td>\n",
       "      <td>951</td>\n",
       "      <td>982</td>\n",
       "      <td>1024</td>\n",
       "      <td>17071</td>\n",
       "    </tr>\n",
       "    <tr>\n",
       "      <th>18</th>\n",
       "      <td>Western Cape</td>\n",
       "      <td>Mitchells Plain</td>\n",
       "      <td>Common assault</td>\n",
       "      <td>2657</td>\n",
       "      <td>2339</td>\n",
       "      <td>2131</td>\n",
       "      <td>2735</td>\n",
       "      <td>2749</td>\n",
       "      <td>2444</td>\n",
       "      <td>2810</td>\n",
       "      <td>2757</td>\n",
       "      <td>2185</td>\n",
       "      <td>1847</td>\n",
       "      <td>2079</td>\n",
       "      <td>26733</td>\n",
       "    </tr>\n",
       "    <tr>\n",
       "      <th>20</th>\n",
       "      <td>Gauteng</td>\n",
       "      <td>Jhb Central</td>\n",
       "      <td>Commercial crime</td>\n",
       "      <td>2585</td>\n",
       "      <td>2740</td>\n",
       "      <td>2844</td>\n",
       "      <td>2870</td>\n",
       "      <td>2867</td>\n",
       "      <td>2386</td>\n",
       "      <td>2475</td>\n",
       "      <td>1680</td>\n",
       "      <td>1296</td>\n",
       "      <td>1188</td>\n",
       "      <td>1137</td>\n",
       "      <td>24068</td>\n",
       "    </tr>\n",
       "  </tbody>\n",
       "</table>\n",
       "</div>"
      ],
      "text/plain": [
       "         Province            Station                                Category  \\\n",
       "11   Western Cape  Cape Town Central      Theft out of or from motor vehicle   \n",
       "12   Western Cape    Mitchells Plain                      Drug-related crime   \n",
       "17  Kwazulu/Natal     Durban Central  Robbery with aggravating circumstances   \n",
       "18   Western Cape    Mitchells Plain                          Common assault   \n",
       "20        Gauteng        Jhb Central                        Commercial crime   \n",
       "\n",
       "    2005-2006  2006-2007  2007-2008  2008-2009  2009-2010  2010-2011  \\\n",
       "11       3468       2924       2329       1856       2905       3051   \n",
       "12       3064       3683       4792       5699       6571       6260   \n",
       "17       2721       3214       2134       1966       1371        899   \n",
       "18       2657       2339       2131       2735       2749       2444   \n",
       "20       2585       2740       2844       2870       2867       2386   \n",
       "\n",
       "    2011-2012  2012-2013  2013-2014  2014-2015  2015-2016  Total 2005-2016  \n",
       "11       3474       3294       3612       3441       3509            33863  \n",
       "12       5850       6310       6044       4768       4609            57650  \n",
       "17        924        885        951        982       1024            17071  \n",
       "18       2810       2757       2185       1847       2079            26733  \n",
       "20       2475       1680       1296       1188       1137            24068  "
      ]
     },
     "execution_count": 10,
     "metadata": {},
     "output_type": "execute_result"
    }
   ],
   "source": [
    "crime_stats.head()"
   ]
  },
  {
   "cell_type": "markdown",
   "metadata": {},
   "source": [
    "### Split data into Train and Test Sets"
   ]
  },
  {
   "cell_type": "code",
   "execution_count": null,
   "metadata": {},
   "outputs": [],
   "source": [
    "training_data = crime_stats.sample(frac=0.8, random_state=25)\n",
    "testing_data = crime_stats.drop(training_data.index)\n",
    "\n",
    "print(f\"No. of training examples: {training_data.shape[0]}\")\n",
    "print(f\"No. of testing examples: {testing_data.shape[0]}\")"
   ]
  },
  {
   "cell_type": "code",
   "execution_count": 12,
   "metadata": {},
   "outputs": [
    {
     "name": "stdout",
     "output_type": "stream",
     "text": [
      "<class 'pandas.core.frame.DataFrame'>\n",
      "Int64Index: 29718 entries, 11 to 30860\n",
      "Data columns (total 15 columns):\n",
      " #   Column           Non-Null Count  Dtype \n",
      "---  ------           --------------  ----- \n",
      " 0   Province         29718 non-null  object\n",
      " 1   Station          29718 non-null  object\n",
      " 2   Category         29718 non-null  object\n",
      " 3   2005-2006        29718 non-null  int64 \n",
      " 4   2006-2007        29718 non-null  int64 \n",
      " 5   2007-2008        29718 non-null  int64 \n",
      " 6   2008-2009        29718 non-null  int64 \n",
      " 7   2009-2010        29718 non-null  int64 \n",
      " 8   2010-2011        29718 non-null  int64 \n",
      " 9   2011-2012        29718 non-null  int64 \n",
      " 10  2012-2013        29718 non-null  int64 \n",
      " 11  2013-2014        29718 non-null  int64 \n",
      " 12  2014-2015        29718 non-null  int64 \n",
      " 13  2015-2016        29718 non-null  int64 \n",
      " 14  Total 2005-2016  29718 non-null  int64 \n",
      "dtypes: int64(12), object(3)\n",
      "memory usage: 3.6+ MB\n"
     ]
    }
   ],
   "source": [
    "training_data.info()"
   ]
  },
  {
   "cell_type": "markdown",
   "metadata": {},
   "source": [
    "### Add Classification Column"
   ]
  },
  {
   "cell_type": "code",
   "execution_count": 13,
   "metadata": {},
   "outputs": [
    {
     "data": {
      "text/plain": [
       "array(['Theft out of or from motor vehicle', 'Drug-related crime',\n",
       "       'Robbery with aggravating circumstances', 'Common assault',\n",
       "       'Commercial crime', 'Burglary at residential premises',\n",
       "       'Assault with the intent to inflict grievous bodily harm',\n",
       "       'Theft of motor vehicle and motorcycle', 'Shoplifting',\n",
       "       'Malicious damage to property', 'Common robbery',\n",
       "       'Burglary at non-residential premises', 'Sexual Offences',\n",
       "       'Driving under the influence of alcohol or drugs', 'Stock-theft',\n",
       "       'Attempted murder', 'Carjacking',\n",
       "       'Robbery at non-residential premises',\n",
       "       'Robbery at residential premises', 'Murder',\n",
       "       'Illegal possession of firearms and ammunition', 'Arson',\n",
       "       'Truck hijacking', 'Robbery of cash in transit', 'Bank robbery',\n",
       "       'Sexual offences as result of police action'], dtype=object)"
      ]
     },
     "execution_count": 13,
     "metadata": {},
     "output_type": "execute_result"
    }
   ],
   "source": [
    "training_data.Category.unique()"
   ]
  },
  {
   "cell_type": "code",
   "execution_count": null,
   "metadata": {},
   "outputs": [],
   "source": [
    "def my_func(row):\n",
    "    if row['Theft out of or from motor vehicle'] < 25:\n",
    "        val = 'JUNIOR'\n",
    "    elif row['Drug-related crime']  < 35:\n",
    "        val = 'MID-LEVEL'\n",
    "    else:\n",
    "        val = 'SENIOR'\n",
    "    return val\n",
    "\n",
    "training_data['status'] = training_data.apply(my_func, axis=1)\n",
    "training_data.head()\n"
   ]
  },
  {
   "cell_type": "markdown",
   "metadata": {},
   "source": [
    "### Stemming and stop words"
   ]
  },
  {
   "cell_type": "code",
   "execution_count": 14,
   "metadata": {},
   "outputs": [],
   "source": [
    "# Define a standard snowball stemmer\n",
    "STEMMER = SnowballStemmer('english')\n",
    "# Make a list of stopwords, including the stemmed versions\n",
    "# These are words that have no impact on the classification, and\n",
    "# can even occasionally mess up the classifier.\n",
    "STOPWORDS = [\n",
    "    'at',\n",
    "    'as',\n",
    "    'of',\n",
    "    'the',\n",
    "    'in',\n",
    "    'or',\n",
    "    'with',\n",
    "    'from',\n",
    "    'and',\n",
    "    '&',\n",
    "    '-s',\n",
    "    'after',\n",
    "    'for',\n",
    "    'police',\n",
    "    'result',\n",
    "    'avoid',\n",
    "    'hold',\n",
    "    'holding',\n",
    "    'retrieved',\n",
    "    'battery',\n",
    "    'fist',\n",
    "    'of',\n",
    "    'to',\n",
    "    'a',\n",
    "]\n",
    "STOPWORDS += [STEMMER.stem(i) for i in STOPWORDS]\n",
    "STOPWORDS = list(set(STOPWORDS))"
   ]
  },
  {
   "cell_type": "markdown",
   "metadata": {},
   "source": [
    "### Tokenize"
   ]
  },
  {
   "cell_type": "code",
   "execution_count": 15,
   "metadata": {},
   "outputs": [],
   "source": [
    "def tokenize(Category):\n",
    "    \"\"\"\n",
    "    Takes SAP description text, strips out unwanted words and text,\n",
    "    and prepares it for the trainer.\n",
    "    \"\"\"\n",
    "    # first lower case and strip leading/trailing whitespace\n",
    "    Category = Category.lower().strip()\n",
    "    # kill the 'do-'s and any stray punctuation\n",
    "    Category = Category.replace('do-', '').replace('.', '').replace(',', '')\n",
    "    # make a list of words by splitting on whitespace\n",
    "    words = Category.split(' ')\n",
    "    # Make sure each \"word\" is a real string / account for odd whitespace\n",
    "    words = [STEMMER.stem(i) for i in words if i]\n",
    "    words = [i for i in words if i not in STOPWORDS]\n",
    "    # let's see if adding bigrams improves the accuracy\n",
    "    bigrams = ngrams(words, 2)\n",
    "    bigrams = [\"%s|%s\" % (i[0], i[1]) for i in bigrams]\n",
    "    # bigrams = [i for i in bigrams if STEMMED_BIGRAMS.get(i)]\n",
    "    # set up a dict\n",
    "    out_dict = dict([(i, True) for i in words + bigrams])\n",
    "    # The NLTK trainer expects data in a certain format\n",
    "    return out_dict"
   ]
  },
  {
   "cell_type": "markdown",
   "metadata": {},
   "source": [
    "### Grab the features"
   ]
  },
  {
   "cell_type": "code",
   "execution_count": null,
   "metadata": {},
   "outputs": [],
   "source": [
    "# open our sample file and use the CSV module to parse it\n",
    "# f = open('training_data.csv', 'rU')\n",
    "data = list(csv.DictReader(training_data))\n",
    "# Make an empty list for our processed data\n",
    "features = []\n",
    "# Loop through all the lines in the CSV\n",
    "for i in data:\n",
    "    Category = i.get('NARRATIVE')\n",
    "    classification = i.get('classification')\n",
    "    feats = tokenize(Category)\n",
    "    features.append((feats, classification))\n",
    "\n",
    "training_data.close()"
   ]
  }
 ],
 "metadata": {
  "kernelspec": {
   "display_name": "Python 3.9.12 ('csir-env')",
   "language": "python",
   "name": "python3"
  },
  "language_info": {
   "codemirror_mode": {
    "name": "ipython",
    "version": 3
   },
   "file_extension": ".py",
   "mimetype": "text/x-python",
   "name": "python",
   "nbconvert_exporter": "python",
   "pygments_lexer": "ipython3",
   "version": "3.9.12"
  },
  "orig_nbformat": 4,
  "vscode": {
   "interpreter": {
    "hash": "8eed40589819f8e2c08314c30fbc820fcf92d670425a6a9e675796f96292ff75"
   }
  }
 },
 "nbformat": 4,
 "nbformat_minor": 2
}
