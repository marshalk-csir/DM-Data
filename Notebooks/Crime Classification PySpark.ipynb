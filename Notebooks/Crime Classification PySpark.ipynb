{
 "cells": [
  {
   "cell_type": "markdown",
   "id": "divided-moldova",
   "metadata": {},
   "source": [
    "### Text Classification with PySpark\n",
    "#### MultiClass Text Classification\n",
    "\n",
    "#### Task\n",
    "+ predict the crime schedule given the category or text\n",
    "\n",
    "#### Pyspark\n",
    "+ pipenv install pyspark\n"
   ]
  },
  {
   "cell_type": "code",
   "execution_count": 1,
   "id": "random-cemetery",
   "metadata": {},
   "outputs": [],
   "source": [
    "# Load Pkgs\n",
    "from pyspark import SparkContext"
   ]
  },
  {
   "cell_type": "code",
   "execution_count": 3,
   "id": "working-louis",
   "metadata": {},
   "outputs": [
    {
     "name": "stderr",
     "output_type": "stream",
     "text": [
      "23/02/01 13:44:29 WARN Utils: Your hostname, DESKTOP-1ULGF16 resolves to a loopback address: 127.0.1.1; using 172.20.138.93 instead (on interface eth0)\n",
      "23/02/01 13:44:29 WARN Utils: Set SPARK_LOCAL_IP if you need to bind to another address\n",
      "WARNING: An illegal reflective access operation has occurred\n",
      "WARNING: Illegal reflective access by org.apache.spark.unsafe.Platform (file:/home/marsh/anaconda3/envs/csir-env/lib/python3.9/site-packages/pyspark/jars/spark-unsafe_2.12-3.2.1.jar) to constructor java.nio.DirectByteBuffer(long,int)\n",
      "WARNING: Please consider reporting this to the maintainers of org.apache.spark.unsafe.Platform\n",
      "WARNING: Use --illegal-access=warn to enable warnings of further illegal reflective access operations\n",
      "WARNING: All illegal access operations will be denied in a future release\n",
      "Using Spark's default log4j profile: org/apache/spark/log4j-defaults.properties\n",
      "Setting default log level to \"WARN\".\n",
      "To adjust logging level use sc.setLogLevel(newLevel). For SparkR, use setLogLevel(newLevel).\n",
      "23/02/01 13:44:31 WARN NativeCodeLoader: Unable to load native-hadoop library for your platform... using builtin-java classes where applicable\n"
     ]
    }
   ],
   "source": [
    "sc = SparkContext(master=\"local[2]\")"
   ]
  },
  {
   "cell_type": "code",
   "execution_count": 4,
   "id": "burning-surgeon",
   "metadata": {},
   "outputs": [
    {
     "data": {
      "text/html": [
       "\n",
       "        <div>\n",
       "            <p><b>SparkContext</b></p>\n",
       "\n",
       "            <p><a href=\"http://172.20.138.93:4040\">Spark UI</a></p>\n",
       "\n",
       "            <dl>\n",
       "              <dt>Version</dt>\n",
       "                <dd><code>v3.2.1</code></dd>\n",
       "              <dt>Master</dt>\n",
       "                <dd><code>local[2]</code></dd>\n",
       "              <dt>AppName</dt>\n",
       "                <dd><code>pyspark-shell</code></dd>\n",
       "            </dl>\n",
       "        </div>\n",
       "        "
      ],
      "text/plain": [
       "<SparkContext master=local[2] appName=pyspark-shell>"
      ]
     },
     "execution_count": 4,
     "metadata": {},
     "output_type": "execute_result"
    }
   ],
   "source": [
    "# Launch UI\n",
    "sc"
   ]
  },
  {
   "cell_type": "code",
   "execution_count": 5,
   "id": "critical-reducing",
   "metadata": {},
   "outputs": [],
   "source": [
    "# Create A Spark Session\n",
    "from pyspark.sql import SparkSession"
   ]
  },
  {
   "cell_type": "code",
   "execution_count": 6,
   "id": "crucial-container",
   "metadata": {},
   "outputs": [],
   "source": [
    "spark = SparkSession.builder.appName(\"CrimeClassifierPySpark\").getOrCreate()"
   ]
  },
  {
   "cell_type": "code",
   "execution_count": 7,
   "id": "communist-preserve",
   "metadata": {},
   "outputs": [],
   "source": [
    "# Load Our Dataset\n",
    "df = spark.read.csv(\"../Data Storage/Crime Stats-za/crime_stats_schedul.csv\",header=True,inferSchema=True)"
   ]
  },
  {
   "cell_type": "code",
   "execution_count": 8,
   "id": "specific-attraction",
   "metadata": {
    "collapsed": true,
    "jupyter": {
     "outputs_hidden": true
    },
    "tags": []
   },
   "outputs": [
    {
     "name": "stdout",
     "output_type": "stream",
     "text": [
      "+---+-------------+-----------------+--------------------+---------+---------+---------+---------+---------+---------+---------+---------+---------+---------+---------+---------------+--------------------+\n",
      "|_c0|     Province|          Station|            Category|2005-2006|2006-2007|2007-2008|2008-2009|2009-2010|2010-2011|2011-2012|2012-2013|2013-2014|2014-2015|2015-2016|Total 2005-2016|      Crime Schedule|\n",
      "+---+-------------+-----------------+--------------------+---------+---------+---------+---------+---------+---------+---------+---------+---------+---------+---------+---------------+--------------------+\n",
      "|  0| Western Cape|Cape Town Central|All theft not men...|     6692|     6341|     5966|     5187|     4985|     5127|     5285|     5937|     5600|     5335|     5176|          61631|Schedule 2 or 7 (...|\n",
      "|  1|      Gauteng|      Jhb Central|All theft not men...|     6093|     4602|     3761|     3610|     3267|     3037|     2886|     2638|     2809|     3050|     2434|          38187|Schedule 2 or 7 (...|\n",
      "|  2| Western Cape|  Mitchells Plain|All theft not men...|     5341|     6093|     6316|     6803|     6035|     5761|     6108|     5514|     4975|     4043|     3635|          60624|Schedule 2 or 7 (...|\n",
      "|  3|   Free State|        Park Road|All theft not men...|     5108|     4282|     3834|     3316|     3101|     3013|     2679|     3116|     2927|     2297|     2103|          35776|Schedule 2 or 7 (...|\n",
      "|  4|      Gauteng| Pretoria Central|All theft not men...|     5099|     4536|     3309|     2694|     2616|     2606|     2635|     3226|     3246|     2892|     3030|          35889|Schedule 2 or 7 (...|\n",
      "|  5|   North West|       Rustenburg|All theft not men...|     4239|     4173|     3398|     3388|     2737|     2117|     2139|     1914|     1897|     1868|     1862|          29732|Schedule 2 or 7 (...|\n",
      "|  6|Kwazulu/Natal|   Durban Central|All theft not men...|     4162|     4529|     3499|     3353|     3183|     2933|     3219|     3418|     3390|     2872|     2865|          37423|Schedule 2 or 7 (...|\n",
      "|  7|      Gauteng|         Brooklyn|All theft not men...|     3931|     3583|     2878|     2568|     2415|     2162|     2050|     1883|     2442|     2200|     2107|          28219|Schedule 2 or 7 (...|\n",
      "|  8|      Gauteng|         Booysens|All theft not men...|     3681|     3277|     2849|     2603|     2580|     3107|     2568|     1339|     1290|     1039|      943|          25276|Schedule 2 or 7 (...|\n",
      "|  9|      Gauteng|         Hillbrow|All theft not men...|     3489|     2914|     3093|     2706|     2250|     2298|     2051|     1835|     1610|     1607|     1618|          25471|Schedule 2 or 7 (...|\n",
      "| 10|   Mpumalanga|        Nelspruit|All theft not men...|     3481|     2385|     1812|     1558|     1437|     1562|     1450|     1390|     1307|     1309|     1152|          18843|Schedule 2 or 7 (...|\n",
      "| 11| Western Cape|Cape Town Central|Theft out of or f...|     3468|     2924|     2329|     1856|     2905|     3051|     3474|     3294|     3612|     3441|     3509|          33863|Schedule 2 (polic...|\n",
      "| 12| Western Cape|  Mitchells Plain|  Drug-related crime|     3064|     3683|     4792|     5699|     6571|     6260|     5850|     6310|     6044|     4768|     4609|          57650|Schedule 5 (serio...|\n",
      "| 13|      Gauteng|          Sandton|All theft not men...|     3030|     3037|     2556|     2383|     2431|     2601|     2446|     2310|     2275|     2838|     2866|          28773|Schedule 2 or 7 (...|\n",
      "| 14| Western Cape|        Bellville|All theft not men...|     3010|     2828|     2721|     2911|     2691|     2180|     2435|     2231|     2249|     2136|     1839|          27231|Schedule 2 or 7 (...|\n",
      "| 15|      Gauteng|        Sunnyside|All theft not men...|     2967|     2659|     1866|     1881|     2044|     2168|     1862|     1861|     2350|     1985|     1820|          23463|Schedule 2 or 7 (...|\n",
      "| 16| Eastern Cape|      East London|All theft not men...|     2892|     2432|     2058|     1892|     1582|     1567|     1498|     1251|     1618|     1394|     1268|          19452|Schedule 2 or 7 (...|\n",
      "| 17|Kwazulu/Natal|   Durban Central|Robbery with aggr...|     2721|     3214|     2134|     1966|     1371|      899|      924|      885|      951|      982|     1024|          17071|Schedule 6 (Most ...|\n",
      "| 18| Western Cape|  Mitchells Plain|      Common assault|     2657|     2339|     2131|     2735|     2749|     2444|     2810|     2757|     2185|     1847|     2079|          26733|          Schedule 1|\n",
      "| 19| Eastern Cape|         Humewood|All theft not men...|     2585|     2276|     1889|     1712|     1288|     1569|     1294|     1236|     1408|     1132|     1044|          17433|Schedule 2 or 7 (...|\n",
      "+---+-------------+-----------------+--------------------+---------+---------+---------+---------+---------+---------+---------+---------+---------+---------+---------+---------------+--------------------+\n",
      "only showing top 20 rows\n",
      "\n"
     ]
    },
    {
     "name": "stderr",
     "output_type": "stream",
     "text": [
      "23/02/01 13:50:23 WARN CSVHeaderChecker: CSV header does not conform to the schema.\n",
      " Header: , Province, Station, Category, 2005-2006, 2006-2007, 2007-2008, 2008-2009, 2009-2010, 2010-2011, 2011-2012, 2012-2013, 2013-2014, 2014-2015, 2015-2016, Total 2005-2016, Crime Schedule\n",
      " Schema: _c0, Province, Station, Category, 2005-2006, 2006-2007, 2007-2008, 2008-2009, 2009-2010, 2010-2011, 2011-2012, 2012-2013, 2013-2014, 2014-2015, 2015-2016, Total 2005-2016, Crime Schedule\n",
      "Expected: _c0 but found: \n",
      "CSV file: file:///mnt/c/Users/Administrator/OneDrive%20-%20csir.co.za/Desktop/Decision%20Making.proj/Code/Decision-Making-Project/Data%20Storage/Crime%20Stats-za/crime_stats_schedul.csv\n"
     ]
    }
   ],
   "source": [
    "df.show()"
   ]
  },
  {
   "cell_type": "code",
   "execution_count": 9,
   "id": "unusual-paper",
   "metadata": {},
   "outputs": [
    {
     "data": {
      "text/plain": [
       "['_c0',\n",
       " 'Province',\n",
       " 'Station',\n",
       " 'Category',\n",
       " '2005-2006',\n",
       " '2006-2007',\n",
       " '2007-2008',\n",
       " '2008-2009',\n",
       " '2009-2010',\n",
       " '2010-2011',\n",
       " '2011-2012',\n",
       " '2012-2013',\n",
       " '2013-2014',\n",
       " '2014-2015',\n",
       " '2015-2016',\n",
       " 'Total 2005-2016',\n",
       " 'Crime Schedule']"
      ]
     },
     "execution_count": 9,
     "metadata": {},
     "output_type": "execute_result"
    }
   ],
   "source": [
    "# Columns\n",
    "df.columns"
   ]
  },
  {
   "cell_type": "code",
   "execution_count": 10,
   "id": "classical-uniform",
   "metadata": {
    "collapsed": true,
    "jupyter": {
     "outputs_hidden": true
    },
    "tags": []
   },
   "outputs": [
    {
     "name": "stdout",
     "output_type": "stream",
     "text": [
      "+--------------------+--------------------+\n",
      "|            Category|      Crime Schedule|\n",
      "+--------------------+--------------------+\n",
      "|All theft not men...|Schedule 2 or 7 (...|\n",
      "|All theft not men...|Schedule 2 or 7 (...|\n",
      "|All theft not men...|Schedule 2 or 7 (...|\n",
      "|All theft not men...|Schedule 2 or 7 (...|\n",
      "|All theft not men...|Schedule 2 or 7 (...|\n",
      "|All theft not men...|Schedule 2 or 7 (...|\n",
      "|All theft not men...|Schedule 2 or 7 (...|\n",
      "|All theft not men...|Schedule 2 or 7 (...|\n",
      "|All theft not men...|Schedule 2 or 7 (...|\n",
      "|All theft not men...|Schedule 2 or 7 (...|\n",
      "|All theft not men...|Schedule 2 or 7 (...|\n",
      "|Theft out of or f...|Schedule 2 (polic...|\n",
      "|  Drug-related crime|Schedule 5 (serio...|\n",
      "|All theft not men...|Schedule 2 or 7 (...|\n",
      "|All theft not men...|Schedule 2 or 7 (...|\n",
      "|All theft not men...|Schedule 2 or 7 (...|\n",
      "|All theft not men...|Schedule 2 or 7 (...|\n",
      "|Robbery with aggr...|Schedule 6 (Most ...|\n",
      "|      Common assault|          Schedule 1|\n",
      "|All theft not men...|Schedule 2 or 7 (...|\n",
      "+--------------------+--------------------+\n",
      "only showing top 20 rows\n",
      "\n"
     ]
    }
   ],
   "source": [
    "# Select Columns\n",
    "df.select('Category','Crime Schedule').show()\n",
    "# df.select('Category').show()"
   ]
  },
  {
   "cell_type": "code",
   "execution_count": 11,
   "id": "announced-picking",
   "metadata": {},
   "outputs": [],
   "source": [
    "df = df.select('Category','Crime Schedule')\n",
    "# df = df.select('Category')"
   ]
  },
  {
   "cell_type": "code",
   "execution_count": 12,
   "id": "dimensional-bridges",
   "metadata": {},
   "outputs": [
    {
     "name": "stdout",
     "output_type": "stream",
     "text": [
      "+--------------------+--------------------+\n",
      "|            Category|      Crime Schedule|\n",
      "+--------------------+--------------------+\n",
      "|All theft not men...|Schedule 2 or 7 (...|\n",
      "|All theft not men...|Schedule 2 or 7 (...|\n",
      "|All theft not men...|Schedule 2 or 7 (...|\n",
      "|All theft not men...|Schedule 2 or 7 (...|\n",
      "|All theft not men...|Schedule 2 or 7 (...|\n",
      "+--------------------+--------------------+\n",
      "only showing top 5 rows\n",
      "\n"
     ]
    }
   ],
   "source": [
    "df.show(5)"
   ]
  },
  {
   "cell_type": "code",
   "execution_count": 14,
   "id": "concerned-reggae",
   "metadata": {
    "collapsed": true,
    "jupyter": {
     "outputs_hidden": true
    },
    "tags": []
   },
   "outputs": [
    {
     "name": "stdout",
     "output_type": "stream",
     "text": [
      "+--------------------+-----+\n",
      "|      Crime Schedule|count|\n",
      "+--------------------+-----+\n",
      "|          Schedule 1| 2286|\n",
      "|          Schedule 2| 8001|\n",
      "|     Schedule 1 or 2| 3429|\n",
      "|Schedule 3 (minor...| 1143|\n",
      "|Schedule 5 (serio...| 2286|\n",
      "|Schedule 2 (polic...| 1143|\n",
      "|Schedule 6 (most ...| 4572|\n",
      "|No Schedule Alloc...| 2286|\n",
      "|Schedule 7 (Prose...| 2286|\n",
      "|Schedule 2 or 7 (...| 1143|\n",
      "|          Schedule 5| 1143|\n",
      "|Schedule 6 (Most ...| 1143|\n",
      "+--------------------+-----+\n",
      "\n"
     ]
    }
   ],
   "source": [
    "# Value Counts\n",
    "df.groupBy('Crime Schedule').count().show()"
   ]
  },
  {
   "cell_type": "code",
   "execution_count": 15,
   "id": "romance-holiday",
   "metadata": {
    "collapsed": true,
    "jupyter": {
     "outputs_hidden": true
    },
    "tags": []
   },
   "outputs": [
    {
     "data": {
      "text/plain": [
       "Schedule 2                              8001\n",
       "Schedule 6 (most serious offences)      4572\n",
       "Schedule 1 or 2                         3429\n",
       "Schedule 5 (serious crimes)             2286\n",
       "Schedule 1                              2286\n",
       "Schedule 7 (Prosecutorial bail)         2286\n",
       "No Schedule Allocated                   2286\n",
       "Schedule 2 or 7 (Prosecutorial bail)    1143\n",
       "Schedule 2 (police bail)                1143\n",
       "Schedule 6 (Most Serious Offences)      1143\n",
       "Schedule 3 (minor offences – fine)      1143\n",
       "Schedule 5                              1143\n",
       "Name: Crime Schedule, dtype: int64"
      ]
     },
     "execution_count": 15,
     "metadata": {},
     "output_type": "execute_result"
    }
   ],
   "source": [
    "# Value Counts via pandas\n",
    "df.toPandas()['Crime Schedule'].value_counts()"
   ]
  },
  {
   "cell_type": "code",
   "execution_count": 17,
   "id": "authorized-royal",
   "metadata": {},
   "outputs": [
    {
     "data": {
      "text/plain": [
       "0"
      ]
     },
     "execution_count": 17,
     "metadata": {},
     "output_type": "execute_result"
    }
   ],
   "source": [
    "# Check For Missing Values\n",
    "df.toPandas()['Crime Schedule'].isnull().sum()"
   ]
  },
  {
   "cell_type": "code",
   "execution_count": 18,
   "id": "suburban-reynolds",
   "metadata": {},
   "outputs": [],
   "source": [
    "# Drop Missing Values\n",
    "df = df.dropna(subset=('Crime Schedule'))"
   ]
  },
  {
   "cell_type": "code",
   "execution_count": 19,
   "id": "unsigned-stick",
   "metadata": {},
   "outputs": [
    {
     "data": {
      "text/plain": [
       "0"
      ]
     },
     "execution_count": 19,
     "metadata": {},
     "output_type": "execute_result"
    }
   ],
   "source": [
    "# Check For Missing Values\n",
    "df.toPandas()['Category'].isnull().sum()"
   ]
  },
  {
   "cell_type": "code",
   "execution_count": 20,
   "id": "statistical-saturday",
   "metadata": {},
   "outputs": [
    {
     "name": "stdout",
     "output_type": "stream",
     "text": [
      "+--------------------+--------------------+\n",
      "|            Category|      Crime Schedule|\n",
      "+--------------------+--------------------+\n",
      "|All theft not men...|Schedule 2 or 7 (...|\n",
      "|All theft not men...|Schedule 2 or 7 (...|\n",
      "|All theft not men...|Schedule 2 or 7 (...|\n",
      "|All theft not men...|Schedule 2 or 7 (...|\n",
      "|All theft not men...|Schedule 2 or 7 (...|\n",
      "+--------------------+--------------------+\n",
      "only showing top 5 rows\n",
      "\n"
     ]
    }
   ],
   "source": [
    "df.show(5)"
   ]
  },
  {
   "cell_type": "markdown",
   "id": "beautiful-scoop",
   "metadata": {},
   "source": [
    "### Feature Extraction\n",
    "#### Build Features From Text\n",
    "+ CountVectorizer\n",
    "+ TFIDF\n",
    "+ WordEmbedding\n",
    "+ HashingTF\n",
    "+ etc"
   ]
  },
  {
   "cell_type": "code",
   "execution_count": 21,
   "id": "reduced-defendant",
   "metadata": {},
   "outputs": [],
   "source": [
    "# Load Our Pkgs\n",
    "import pyspark.ml.feature"
   ]
  },
  {
   "cell_type": "code",
   "execution_count": 22,
   "id": "worthy-norwegian",
   "metadata": {
    "collapsed": true,
    "jupyter": {
     "outputs_hidden": true
    },
    "tags": []
   },
   "outputs": [
    {
     "data": {
      "text/plain": [
       "['Binarizer',\n",
       " 'BucketedRandomProjectionLSH',\n",
       " 'BucketedRandomProjectionLSHModel',\n",
       " 'Bucketizer',\n",
       " 'ChiSqSelector',\n",
       " 'ChiSqSelectorModel',\n",
       " 'CountVectorizer',\n",
       " 'CountVectorizerModel',\n",
       " 'DCT',\n",
       " 'ElementwiseProduct',\n",
       " 'FeatureHasher',\n",
       " 'HasFeaturesCol',\n",
       " 'HasHandleInvalid',\n",
       " 'HasInputCol',\n",
       " 'HasInputCols',\n",
       " 'HasLabelCol',\n",
       " 'HasMaxIter',\n",
       " 'HasNumFeatures',\n",
       " 'HasOutputCol',\n",
       " 'HasOutputCols',\n",
       " 'HasRelativeError',\n",
       " 'HasSeed',\n",
       " 'HasStepSize',\n",
       " 'HasThreshold',\n",
       " 'HasThresholds',\n",
       " 'HashingTF',\n",
       " 'IDF',\n",
       " 'IDFModel',\n",
       " 'Imputer',\n",
       " 'ImputerModel',\n",
       " 'IndexToString',\n",
       " 'Interaction',\n",
       " 'JavaEstimator',\n",
       " 'JavaMLReadable',\n",
       " 'JavaMLWritable',\n",
       " 'JavaModel',\n",
       " 'JavaParams',\n",
       " 'JavaTransformer',\n",
       " 'MaxAbsScaler',\n",
       " 'MaxAbsScalerModel',\n",
       " 'MinHashLSH',\n",
       " 'MinHashLSHModel',\n",
       " 'MinMaxScaler',\n",
       " 'MinMaxScalerModel',\n",
       " 'NGram',\n",
       " 'Normalizer',\n",
       " 'OneHotEncoder',\n",
       " 'OneHotEncoderModel',\n",
       " 'PCA',\n",
       " 'PCAModel',\n",
       " 'Param',\n",
       " 'Params',\n",
       " 'PolynomialExpansion',\n",
       " 'QuantileDiscretizer',\n",
       " 'RFormula',\n",
       " 'RFormulaModel',\n",
       " 'RegexTokenizer',\n",
       " 'RobustScaler',\n",
       " 'RobustScalerModel',\n",
       " 'SQLTransformer',\n",
       " 'SparkContext',\n",
       " 'StandardScaler',\n",
       " 'StandardScalerModel',\n",
       " 'StopWordsRemover',\n",
       " 'StringIndexer',\n",
       " 'StringIndexerModel',\n",
       " 'Tokenizer',\n",
       " 'TypeConverters',\n",
       " 'UnivariateFeatureSelector',\n",
       " 'UnivariateFeatureSelectorModel',\n",
       " 'VarianceThresholdSelector',\n",
       " 'VarianceThresholdSelectorModel',\n",
       " 'VectorAssembler',\n",
       " 'VectorIndexer',\n",
       " 'VectorIndexerModel',\n",
       " 'VectorSizeHint',\n",
       " 'VectorSlicer',\n",
       " 'Word2Vec',\n",
       " 'Word2VecModel',\n",
       " '_BucketedRandomProjectionLSHParams',\n",
       " '_CountVectorizerParams',\n",
       " '_IDFParams',\n",
       " '_ImputerParams',\n",
       " '_LSH',\n",
       " '_LSHModel',\n",
       " '_LSHParams',\n",
       " '_MaxAbsScalerParams',\n",
       " '_MinMaxScalerParams',\n",
       " '_OneHotEncoderParams',\n",
       " '_PCAParams',\n",
       " '_RFormulaParams',\n",
       " '_RobustScalerParams',\n",
       " '_Selector',\n",
       " '_SelectorModel',\n",
       " '_SelectorParams',\n",
       " '_StandardScalerParams',\n",
       " '_StringIndexerParams',\n",
       " '_UnivariateFeatureSelectorParams',\n",
       " '_VarianceThresholdSelectorParams',\n",
       " '_VectorIndexerParams',\n",
       " '_Word2VecParams',\n",
       " '__all__',\n",
       " '__builtins__',\n",
       " '__cached__',\n",
       " '__doc__',\n",
       " '__file__',\n",
       " '__loader__',\n",
       " '__name__',\n",
       " '__package__',\n",
       " '__spec__',\n",
       " '_convert_to_vector',\n",
       " '_jvm',\n",
       " 'inherit_doc',\n",
       " 'keyword_only',\n",
       " 'since']"
      ]
     },
     "execution_count": 22,
     "metadata": {},
     "output_type": "execute_result"
    }
   ],
   "source": [
    "# View All Available Tranformers, Extractors, Vectorizer\n",
    "dir(pyspark.ml.feature)"
   ]
  },
  {
   "cell_type": "code",
   "execution_count": 23,
   "id": "involved-accessory",
   "metadata": {},
   "outputs": [],
   "source": [
    "# Load Our Transformer & Extractor Pkgs\n",
    "from pyspark.ml.feature import Tokenizer,StopWordsRemover,CountVectorizer,IDF\n",
    "from pyspark.ml.feature import StringIndexer"
   ]
  },
  {
   "cell_type": "code",
   "execution_count": 24,
   "id": "challenging-alcohol",
   "metadata": {},
   "outputs": [
    {
     "name": "stdout",
     "output_type": "stream",
     "text": [
      "+--------------------+--------------------+\n",
      "|            Category|      Crime Schedule|\n",
      "+--------------------+--------------------+\n",
      "|All theft not men...|Schedule 2 or 7 (...|\n",
      "|All theft not men...|Schedule 2 or 7 (...|\n",
      "|All theft not men...|Schedule 2 or 7 (...|\n",
      "|All theft not men...|Schedule 2 or 7 (...|\n",
      "|All theft not men...|Schedule 2 or 7 (...|\n",
      "+--------------------+--------------------+\n",
      "only showing top 5 rows\n",
      "\n"
     ]
    }
   ],
   "source": [
    "df.show(5)"
   ]
  },
  {
   "cell_type": "code",
   "execution_count": 25,
   "id": "qualified-shaft",
   "metadata": {},
   "outputs": [],
   "source": [
    "# Stages For the Pipeline\n",
    "tokenizer = Tokenizer(inputCol='Category',outputCol='mytokens')\n",
    "stopwords_remover = StopWordsRemover(inputCol='mytokens',outputCol='filtered_tokens')\n",
    "vectorizer = CountVectorizer(inputCol='filtered_tokens',outputCol='rawFeatures')\n",
    "idf = IDF(inputCol='rawFeatures',outputCol='vectorizedFeatures')\n",
    "\n"
   ]
  },
  {
   "cell_type": "code",
   "execution_count": 26,
   "id": "cosmetic-korea",
   "metadata": {},
   "outputs": [],
   "source": [
    "# LabelEncoding/LabelIndexing\n",
    "labelEncoder = StringIndexer(inputCol='Crime Schedule',outputCol='label').fit(df)"
   ]
  },
  {
   "cell_type": "code",
   "execution_count": 27,
   "id": "collective-speed",
   "metadata": {},
   "outputs": [
    {
     "name": "stdout",
     "output_type": "stream",
     "text": [
      "+--------------------+--------------------+-----+\n",
      "|            Category|      Crime Schedule|label|\n",
      "+--------------------+--------------------+-----+\n",
      "|All theft not men...|Schedule 2 or 7 (...|  8.0|\n",
      "|All theft not men...|Schedule 2 or 7 (...|  8.0|\n",
      "|All theft not men...|Schedule 2 or 7 (...|  8.0|\n",
      "|All theft not men...|Schedule 2 or 7 (...|  8.0|\n",
      "|All theft not men...|Schedule 2 or 7 (...|  8.0|\n",
      "+--------------------+--------------------+-----+\n",
      "only showing top 5 rows\n",
      "\n"
     ]
    }
   ],
   "source": [
    "labelEncoder.transform(df).show(5)"
   ]
  },
  {
   "cell_type": "code",
   "execution_count": 28,
   "id": "stone-ethernet",
   "metadata": {},
   "outputs": [
    {
     "data": {
      "text/plain": [
       "['Schedule 2',\n",
       " 'Schedule 6 (most serious offences)',\n",
       " 'Schedule 1 or 2',\n",
       " 'No Schedule Allocated',\n",
       " 'Schedule 1',\n",
       " 'Schedule 5 (serious crimes)',\n",
       " 'Schedule 7 (Prosecutorial bail)',\n",
       " 'Schedule 2 (police bail)',\n",
       " 'Schedule 2 or 7 (Prosecutorial bail)',\n",
       " 'Schedule 3 (minor offences – fine)',\n",
       " 'Schedule 5',\n",
       " 'Schedule 6 (Most Serious Offences)']"
      ]
     },
     "execution_count": 28,
     "metadata": {},
     "output_type": "execute_result"
    }
   ],
   "source": [
    "labelEncoder.labels"
   ]
  },
  {
   "cell_type": "code",
   "execution_count": 29,
   "id": "exempt-contemporary",
   "metadata": {},
   "outputs": [],
   "source": [
    "# Dict of Labels\n",
    "\n",
    "label_dict = {'Schedule 2':0.0,\n",
    " 'Schedule 6 (most serious offences)':1.0,\n",
    " 'Schedule 1 or 2':2.0,\n",
    " 'No Schedule Allocated':3.0,\n",
    " 'Schedule 1':4.0,\n",
    " 'Schedule 5 (serious crimes)':5.0,\n",
    " 'Schedule 7 (Prosecutorial bail)':6.0,\n",
    " 'Schedule 2 (police bail)':7.0,\n",
    " 'Schedule 2 or 7 (Prosecutorial bail)':8.0,\n",
    " 'Schedule 3 (minor offences – fine)':9.0,\n",
    " 'Schedule 5':10.0,\n",
    " 'Schedule 6 (Most Serious Offences)':11.0}"
   ]
  },
  {
   "cell_type": "code",
   "execution_count": 30,
   "id": "qualified-facial",
   "metadata": {
    "collapsed": true,
    "jupyter": {
     "outputs_hidden": true
    },
    "tags": []
   },
   "outputs": [
    {
     "name": "stdout",
     "output_type": "stream",
     "text": [
      "+--------------------+--------------------+\n",
      "|            Category|      Crime Schedule|\n",
      "+--------------------+--------------------+\n",
      "|All theft not men...|Schedule 2 or 7 (...|\n",
      "|All theft not men...|Schedule 2 or 7 (...|\n",
      "|All theft not men...|Schedule 2 or 7 (...|\n",
      "|All theft not men...|Schedule 2 or 7 (...|\n",
      "|All theft not men...|Schedule 2 or 7 (...|\n",
      "|All theft not men...|Schedule 2 or 7 (...|\n",
      "|All theft not men...|Schedule 2 or 7 (...|\n",
      "|All theft not men...|Schedule 2 or 7 (...|\n",
      "|All theft not men...|Schedule 2 or 7 (...|\n",
      "|All theft not men...|Schedule 2 or 7 (...|\n",
      "|All theft not men...|Schedule 2 or 7 (...|\n",
      "|Theft out of or f...|Schedule 2 (polic...|\n",
      "|  Drug-related crime|Schedule 5 (serio...|\n",
      "|All theft not men...|Schedule 2 or 7 (...|\n",
      "|All theft not men...|Schedule 2 or 7 (...|\n",
      "|All theft not men...|Schedule 2 or 7 (...|\n",
      "|All theft not men...|Schedule 2 or 7 (...|\n",
      "|Robbery with aggr...|Schedule 6 (Most ...|\n",
      "|      Common assault|          Schedule 1|\n",
      "|All theft not men...|Schedule 2 or 7 (...|\n",
      "+--------------------+--------------------+\n",
      "only showing top 20 rows\n",
      "\n"
     ]
    }
   ],
   "source": [
    "df.show()"
   ]
  },
  {
   "cell_type": "code",
   "execution_count": 31,
   "id": "healthy-reserve",
   "metadata": {},
   "outputs": [],
   "source": [
    "df = labelEncoder.transform(df)"
   ]
  },
  {
   "cell_type": "code",
   "execution_count": 33,
   "id": "charitable-ambassador",
   "metadata": {},
   "outputs": [
    {
     "name": "stdout",
     "output_type": "stream",
     "text": [
      "+--------------------+--------------------+-----+\n",
      "|            Category|      Crime Schedule|label|\n",
      "+--------------------+--------------------+-----+\n",
      "|All theft not men...|Schedule 2 or 7 (...|  8.0|\n",
      "|All theft not men...|Schedule 2 or 7 (...|  8.0|\n",
      "|All theft not men...|Schedule 2 or 7 (...|  8.0|\n",
      "|All theft not men...|Schedule 2 or 7 (...|  8.0|\n",
      "|All theft not men...|Schedule 2 or 7 (...|  8.0|\n",
      "|All theft not men...|Schedule 2 or 7 (...|  8.0|\n",
      "|All theft not men...|Schedule 2 or 7 (...|  8.0|\n",
      "|All theft not men...|Schedule 2 or 7 (...|  8.0|\n",
      "|All theft not men...|Schedule 2 or 7 (...|  8.0|\n",
      "|All theft not men...|Schedule 2 or 7 (...|  8.0|\n",
      "|All theft not men...|Schedule 2 or 7 (...|  8.0|\n",
      "|Theft out of or f...|Schedule 2 (polic...|  7.0|\n",
      "|  Drug-related crime|Schedule 5 (serio...|  5.0|\n",
      "|All theft not men...|Schedule 2 or 7 (...|  8.0|\n",
      "|All theft not men...|Schedule 2 or 7 (...|  8.0|\n",
      "|All theft not men...|Schedule 2 or 7 (...|  8.0|\n",
      "|All theft not men...|Schedule 2 or 7 (...|  8.0|\n",
      "|Robbery with aggr...|Schedule 6 (Most ...| 11.0|\n",
      "|      Common assault|          Schedule 1|  4.0|\n",
      "|All theft not men...|Schedule 2 or 7 (...|  8.0|\n",
      "+--------------------+--------------------+-----+\n",
      "only showing top 20 rows\n",
      "\n"
     ]
    }
   ],
   "source": [
    "df.show(20)"
   ]
  },
  {
   "cell_type": "code",
   "execution_count": 34,
   "id": "frozen-width",
   "metadata": {},
   "outputs": [],
   "source": [
    "### Split Dataset\n",
    "(trainDF,testDF) = df.randomSplit((0.7,0.3),seed=42)"
   ]
  },
  {
   "cell_type": "code",
   "execution_count": 40,
   "id": "challenging-algebra",
   "metadata": {},
   "outputs": [
    {
     "name": "stdout",
     "output_type": "stream",
     "text": [
      "+--------------------+--------------------+-----+\n",
      "|            Category|      Crime Schedule|label|\n",
      "+--------------------+--------------------+-----+\n",
      "|All theft not men...|Schedule 2 or 7 (...|  8.0|\n",
      "|All theft not men...|Schedule 2 or 7 (...|  8.0|\n",
      "|All theft not men...|Schedule 2 or 7 (...|  8.0|\n",
      "|All theft not men...|Schedule 2 or 7 (...|  8.0|\n",
      "|All theft not men...|Schedule 2 or 7 (...|  8.0|\n",
      "|All theft not men...|Schedule 2 or 7 (...|  8.0|\n",
      "|All theft not men...|Schedule 2 or 7 (...|  8.0|\n",
      "|All theft not men...|Schedule 2 or 7 (...|  8.0|\n",
      "|All theft not men...|Schedule 2 or 7 (...|  8.0|\n",
      "|All theft not men...|Schedule 2 or 7 (...|  8.0|\n",
      "|All theft not men...|Schedule 2 or 7 (...|  8.0|\n",
      "|All theft not men...|Schedule 2 or 7 (...|  8.0|\n",
      "|All theft not men...|Schedule 2 or 7 (...|  8.0|\n",
      "|All theft not men...|Schedule 2 or 7 (...|  8.0|\n",
      "|All theft not men...|Schedule 2 or 7 (...|  8.0|\n",
      "|All theft not men...|Schedule 2 or 7 (...|  8.0|\n",
      "|All theft not men...|Schedule 2 or 7 (...|  8.0|\n",
      "|All theft not men...|Schedule 2 or 7 (...|  8.0|\n",
      "|All theft not men...|Schedule 2 or 7 (...|  8.0|\n",
      "|All theft not men...|Schedule 2 or 7 (...|  8.0|\n",
      "+--------------------+--------------------+-----+\n",
      "only showing top 20 rows\n",
      "\n"
     ]
    }
   ],
   "source": [
    "trainDF.show()"
   ]
  },
  {
   "cell_type": "code",
   "execution_count": 41,
   "id": "voluntary-mirror",
   "metadata": {},
   "outputs": [],
   "source": [
    "### Estimator\n",
    "from pyspark.ml.classification import LogisticRegression"
   ]
  },
  {
   "cell_type": "code",
   "execution_count": 42,
   "id": "neither-creativity",
   "metadata": {},
   "outputs": [],
   "source": [
    "# Create Estimator\n",
    "lr = LogisticRegression(featuresCol='vectorizedFeatures',labelCol='label')"
   ]
  },
  {
   "cell_type": "markdown",
   "id": "complete-stanford",
   "metadata": {},
   "source": [
    "#### Building the Pipeline"
   ]
  },
  {
   "cell_type": "code",
   "execution_count": 43,
   "id": "european-definition",
   "metadata": {},
   "outputs": [],
   "source": [
    "# Load Pkgs\n",
    "from pyspark.ml import Pipeline"
   ]
  },
  {
   "cell_type": "code",
   "execution_count": 44,
   "id": "tired-assembly",
   "metadata": {},
   "outputs": [],
   "source": [
    "# Create Pipeline\n",
    "pipeline = Pipeline(stages=[tokenizer,stopwords_remover,vectorizer,idf,lr])"
   ]
  },
  {
   "cell_type": "code",
   "execution_count": 45,
   "id": "proof-aquarium",
   "metadata": {},
   "outputs": [
    {
     "data": {
      "text/plain": [
       "Pipeline_33ec6770ba2a"
      ]
     },
     "execution_count": 45,
     "metadata": {},
     "output_type": "execute_result"
    }
   ],
   "source": [
    "pipeline"
   ]
  },
  {
   "cell_type": "code",
   "execution_count": 46,
   "id": "korean-charm",
   "metadata": {},
   "outputs": [
    {
     "data": {
      "text/plain": [
       "Param(parent='Pipeline_33ec6770ba2a', name='stages', doc='a list of pipeline stages')"
      ]
     },
     "execution_count": 46,
     "metadata": {},
     "output_type": "execute_result"
    }
   ],
   "source": [
    "pipeline.stages"
   ]
  },
  {
   "cell_type": "code",
   "execution_count": 48,
   "id": "revolutionary-personal",
   "metadata": {},
   "outputs": [],
   "source": [
    "# Building MOdel\n",
    "lr_model = pipeline.fit(trainDF)"
   ]
  },
  {
   "cell_type": "code",
   "execution_count": 49,
   "id": "revolutionary-transport",
   "metadata": {},
   "outputs": [
    {
     "data": {
      "text/plain": [
       "PipelineModel_7714435a91a7"
      ]
     },
     "execution_count": 49,
     "metadata": {},
     "output_type": "execute_result"
    }
   ],
   "source": [
    "lr_model"
   ]
  },
  {
   "cell_type": "code",
   "execution_count": 50,
   "id": "found-victory",
   "metadata": {},
   "outputs": [],
   "source": [
    "# Predictions on our Test Dataset\n",
    "predictions = lr_model.transform(testDF)"
   ]
  },
  {
   "cell_type": "code",
   "execution_count": 51,
   "id": "velvet-carpet",
   "metadata": {
    "collapsed": true,
    "jupyter": {
     "outputs_hidden": true
    },
    "tags": []
   },
   "outputs": [
    {
     "name": "stdout",
     "output_type": "stream",
     "text": [
      "+--------------------+--------------------+-----+--------------------+--------------------+--------------------+--------------------+--------------------+--------------------+----------+\n",
      "|            Category|      Crime Schedule|label|            mytokens|     filtered_tokens|         rawFeatures|  vectorizedFeatures|       rawPrediction|         probability|prediction|\n",
      "+--------------------+--------------------+-----+--------------------+--------------------+--------------------+--------------------+--------------------+--------------------+----------+\n",
      "|All theft not men...|Schedule 2 or 7 (...|  8.0|[all, theft, not,...|[theft, mentioned...|(50,[2,14,15],[1....|(50,[2,14,15],[2....|[-2.9633759566258...|[5.12017999125737...|       8.0|\n",
      "|All theft not men...|Schedule 2 or 7 (...|  8.0|[all, theft, not,...|[theft, mentioned...|(50,[2,14,15],[1....|(50,[2,14,15],[2....|[-2.9633759566258...|[5.12017999125737...|       8.0|\n",
      "|All theft not men...|Schedule 2 or 7 (...|  8.0|[all, theft, not,...|[theft, mentioned...|(50,[2,14,15],[1....|(50,[2,14,15],[2....|[-2.9633759566258...|[5.12017999125737...|       8.0|\n",
      "|All theft not men...|Schedule 2 or 7 (...|  8.0|[all, theft, not,...|[theft, mentioned...|(50,[2,14,15],[1....|(50,[2,14,15],[2....|[-2.9633759566258...|[5.12017999125737...|       8.0|\n",
      "|All theft not men...|Schedule 2 or 7 (...|  8.0|[all, theft, not,...|[theft, mentioned...|(50,[2,14,15],[1....|(50,[2,14,15],[2....|[-2.9633759566258...|[5.12017999125737...|       8.0|\n",
      "|All theft not men...|Schedule 2 or 7 (...|  8.0|[all, theft, not,...|[theft, mentioned...|(50,[2,14,15],[1....|(50,[2,14,15],[2....|[-2.9633759566258...|[5.12017999125737...|       8.0|\n",
      "|All theft not men...|Schedule 2 or 7 (...|  8.0|[all, theft, not,...|[theft, mentioned...|(50,[2,14,15],[1....|(50,[2,14,15],[2....|[-2.9633759566258...|[5.12017999125737...|       8.0|\n",
      "|All theft not men...|Schedule 2 or 7 (...|  8.0|[all, theft, not,...|[theft, mentioned...|(50,[2,14,15],[1....|(50,[2,14,15],[2....|[-2.9633759566258...|[5.12017999125737...|       8.0|\n",
      "|All theft not men...|Schedule 2 or 7 (...|  8.0|[all, theft, not,...|[theft, mentioned...|(50,[2,14,15],[1....|(50,[2,14,15],[2....|[-2.9633759566258...|[5.12017999125737...|       8.0|\n",
      "|All theft not men...|Schedule 2 or 7 (...|  8.0|[all, theft, not,...|[theft, mentioned...|(50,[2,14,15],[1....|(50,[2,14,15],[2....|[-2.9633759566258...|[5.12017999125737...|       8.0|\n",
      "|All theft not men...|Schedule 2 or 7 (...|  8.0|[all, theft, not,...|[theft, mentioned...|(50,[2,14,15],[1....|(50,[2,14,15],[2....|[-2.9633759566258...|[5.12017999125737...|       8.0|\n",
      "|All theft not men...|Schedule 2 or 7 (...|  8.0|[all, theft, not,...|[theft, mentioned...|(50,[2,14,15],[1....|(50,[2,14,15],[2....|[-2.9633759566258...|[5.12017999125737...|       8.0|\n",
      "|All theft not men...|Schedule 2 or 7 (...|  8.0|[all, theft, not,...|[theft, mentioned...|(50,[2,14,15],[1....|(50,[2,14,15],[2....|[-2.9633759566258...|[5.12017999125737...|       8.0|\n",
      "|All theft not men...|Schedule 2 or 7 (...|  8.0|[all, theft, not,...|[theft, mentioned...|(50,[2,14,15],[1....|(50,[2,14,15],[2....|[-2.9633759566258...|[5.12017999125737...|       8.0|\n",
      "|All theft not men...|Schedule 2 or 7 (...|  8.0|[all, theft, not,...|[theft, mentioned...|(50,[2,14,15],[1....|(50,[2,14,15],[2....|[-2.9633759566258...|[5.12017999125737...|       8.0|\n",
      "|All theft not men...|Schedule 2 or 7 (...|  8.0|[all, theft, not,...|[theft, mentioned...|(50,[2,14,15],[1....|(50,[2,14,15],[2....|[-2.9633759566258...|[5.12017999125737...|       8.0|\n",
      "|All theft not men...|Schedule 2 or 7 (...|  8.0|[all, theft, not,...|[theft, mentioned...|(50,[2,14,15],[1....|(50,[2,14,15],[2....|[-2.9633759566258...|[5.12017999125737...|       8.0|\n",
      "|All theft not men...|Schedule 2 or 7 (...|  8.0|[all, theft, not,...|[theft, mentioned...|(50,[2,14,15],[1....|(50,[2,14,15],[2....|[-2.9633759566258...|[5.12017999125737...|       8.0|\n",
      "|All theft not men...|Schedule 2 or 7 (...|  8.0|[all, theft, not,...|[theft, mentioned...|(50,[2,14,15],[1....|(50,[2,14,15],[2....|[-2.9633759566258...|[5.12017999125737...|       8.0|\n",
      "|All theft not men...|Schedule 2 or 7 (...|  8.0|[all, theft, not,...|[theft, mentioned...|(50,[2,14,15],[1....|(50,[2,14,15],[2....|[-2.9633759566258...|[5.12017999125737...|       8.0|\n",
      "+--------------------+--------------------+-----+--------------------+--------------------+--------------------+--------------------+--------------------+--------------------+----------+\n",
      "only showing top 20 rows\n",
      "\n"
     ]
    }
   ],
   "source": [
    "predictions.show()"
   ]
  },
  {
   "cell_type": "code",
   "execution_count": 52,
   "id": "iraqi-advocate",
   "metadata": {},
   "outputs": [
    {
     "data": {
      "text/plain": [
       "['Category',\n",
       " 'Crime Schedule',\n",
       " 'label',\n",
       " 'mytokens',\n",
       " 'filtered_tokens',\n",
       " 'rawFeatures',\n",
       " 'vectorizedFeatures',\n",
       " 'rawPrediction',\n",
       " 'probability',\n",
       " 'prediction']"
      ]
     },
     "execution_count": 52,
     "metadata": {},
     "output_type": "execute_result"
    }
   ],
   "source": [
    "# Select Columns\n",
    "predictions.columns"
   ]
  },
  {
   "cell_type": "code",
   "execution_count": 53,
   "id": "impressive-defeat",
   "metadata": {},
   "outputs": [
    {
     "name": "stdout",
     "output_type": "stream",
     "text": [
      "+--------------------+--------------------+--------------------+-----+----------+\n",
      "|       rawPrediction|         probability|      Crime Schedule|label|prediction|\n",
      "+--------------------+--------------------+--------------------+-----+----------+\n",
      "|[-2.9633759566258...|[5.12017999125737...|Schedule 2 or 7 (...|  8.0|       8.0|\n",
      "|[-2.9633759566258...|[5.12017999125737...|Schedule 2 or 7 (...|  8.0|       8.0|\n",
      "|[-2.9633759566258...|[5.12017999125737...|Schedule 2 or 7 (...|  8.0|       8.0|\n",
      "|[-2.9633759566258...|[5.12017999125737...|Schedule 2 or 7 (...|  8.0|       8.0|\n",
      "|[-2.9633759566258...|[5.12017999125737...|Schedule 2 or 7 (...|  8.0|       8.0|\n",
      "|[-2.9633759566258...|[5.12017999125737...|Schedule 2 or 7 (...|  8.0|       8.0|\n",
      "|[-2.9633759566258...|[5.12017999125737...|Schedule 2 or 7 (...|  8.0|       8.0|\n",
      "|[-2.9633759566258...|[5.12017999125737...|Schedule 2 or 7 (...|  8.0|       8.0|\n",
      "|[-2.9633759566258...|[5.12017999125737...|Schedule 2 or 7 (...|  8.0|       8.0|\n",
      "|[-2.9633759566258...|[5.12017999125737...|Schedule 2 or 7 (...|  8.0|       8.0|\n",
      "+--------------------+--------------------+--------------------+-----+----------+\n",
      "only showing top 10 rows\n",
      "\n"
     ]
    }
   ],
   "source": [
    "predictions.select('rawPrediction','probability','Crime Schedule','label','prediction').show(10)"
   ]
  },
  {
   "cell_type": "markdown",
   "id": "local-suspect",
   "metadata": {},
   "source": [
    "### Model Evaluation (Accuracy Scores)\n",
    "+ Accuracy\n",
    "+ Precision\n",
    "+ F1score\n",
    "+ etc\n"
   ]
  },
  {
   "cell_type": "code",
   "execution_count": 63,
   "id": "american-skill",
   "metadata": {},
   "outputs": [],
   "source": [
    "from pyspark.ml.evaluation import MulticlassClassificationEvaluator"
   ]
  },
  {
   "cell_type": "code",
   "execution_count": 56,
   "id": "tough-population",
   "metadata": {},
   "outputs": [],
   "source": [
    "evaluator = MulticlassClassificationEvaluator(labelCol='label',predictionCol='prediction',metricName='accuracy')"
   ]
  },
  {
   "cell_type": "code",
   "execution_count": 57,
   "id": "fossil-launch",
   "metadata": {},
   "outputs": [],
   "source": [
    "accuracy = evaluator.evaluate(predictions)"
   ]
  },
  {
   "cell_type": "code",
   "execution_count": 58,
   "id": "express-extraction",
   "metadata": {},
   "outputs": [
    {
     "data": {
      "text/plain": [
       "1.0"
      ]
     },
     "execution_count": 58,
     "metadata": {},
     "output_type": "execute_result"
    }
   ],
   "source": [
    "accuracy"
   ]
  },
  {
   "cell_type": "code",
   "execution_count": 59,
   "id": "confused-welcome",
   "metadata": {},
   "outputs": [],
   "source": [
    "#### Method 2: Precision. F1Score (Classification Report)\n",
    "from pyspark.mllib.evaluation import MulticlassMetrics"
   ]
  },
  {
   "cell_type": "code",
   "execution_count": 60,
   "id": "comic-music",
   "metadata": {},
   "outputs": [
    {
     "name": "stderr",
     "output_type": "stream",
     "text": [
      "/home/marsh/anaconda3/envs/csir-env/lib/python3.9/site-packages/pyspark/sql/context.py:125: FutureWarning: Deprecated in 3.0.0. Use SparkSession.builder.getOrCreate() instead.\n",
      "  warnings.warn(\n",
      "                                                                                \r"
     ]
    }
   ],
   "source": [
    "lr_metric = MulticlassMetrics(predictions['label','prediction'].rdd)"
   ]
  },
  {
   "cell_type": "code",
   "execution_count": 61,
   "id": "thousand-assault",
   "metadata": {},
   "outputs": [
    {
     "name": "stdout",
     "output_type": "stream",
     "text": [
      "Accuracy: 1.0\n",
      "Precision: 1.0\n",
      "Recall: 1.0\n",
      "F1Score: 1.0\n"
     ]
    }
   ],
   "source": [
    "print(\"Accuracy:\",lr_metric.accuracy)\n",
    "print(\"Precision:\",lr_metric.precision(1.0))\n",
    "print(\"Recall:\",lr_metric.recall(1.0))\n",
    "print(\"F1Score:\",lr_metric.fMeasure(1.0))"
   ]
  },
  {
   "cell_type": "markdown",
   "id": "welsh-publisher",
   "metadata": {},
   "source": [
    "### Confusion Matrix\n",
    "+ convert to pandas\n",
    "+ sklearn"
   ]
  },
  {
   "cell_type": "code",
   "execution_count": 64,
   "id": "changed-consciousness",
   "metadata": {},
   "outputs": [],
   "source": [
    "y_true = predictions.select('label')\n",
    "y_true = y_true.toPandas()\n",
    "y_pred = predictions.select('prediction')\n",
    "y_pred = y_pred.toPandas()"
   ]
  },
  {
   "cell_type": "code",
   "execution_count": 65,
   "id": "valid-brazil",
   "metadata": {},
   "outputs": [],
   "source": [
    "from sklearn.metrics import confusion_matrix,classification_report"
   ]
  },
  {
   "cell_type": "code",
   "execution_count": 66,
   "id": "attached-facility",
   "metadata": {},
   "outputs": [],
   "source": [
    "cm = confusion_matrix(y_true,y_pred)"
   ]
  },
  {
   "cell_type": "code",
   "execution_count": 67,
   "id": "dutch-memphis",
   "metadata": {},
   "outputs": [
    {
     "data": {
      "text/plain": [
       "array([[2396,    0,    0,    0,    0,    0,    0,    0,    0,    0,    0,\n",
       "           0],\n",
       "       [   0, 1368,    0,    0,    0,    0,    0,    0,    0,    0,    0,\n",
       "           0],\n",
       "       [   0,    0, 1054,    0,    0,    0,    0,    0,    0,    0,    0,\n",
       "           0],\n",
       "       [   0,    0,    0,  651,    0,    0,    0,    0,    0,    0,    0,\n",
       "           0],\n",
       "       [   0,    0,    0,    0,  725,    0,    0,    0,    0,    0,    0,\n",
       "           0],\n",
       "       [   0,    0,    0,    0,    0,  693,    0,    0,    0,    0,    0,\n",
       "           0],\n",
       "       [   0,    0,    0,    0,    0,    0,  679,    0,    0,    0,    0,\n",
       "           0],\n",
       "       [   0,    0,    0,    0,    0,    0,    0,  338,    0,    0,    0,\n",
       "           0],\n",
       "       [   0,    0,    0,    0,    0,    0,    0,    0,  301,    0,    0,\n",
       "           0],\n",
       "       [   0,    0,    0,    0,    0,    0,    0,    0,    0,  316,    0,\n",
       "           0],\n",
       "       [   0,    0,    0,    0,    0,    0,    0,    0,    0,    0,  324,\n",
       "           0],\n",
       "       [   0,    0,    0,    0,    0,    0,    0,    0,    0,    0,    0,\n",
       "         348]])"
      ]
     },
     "execution_count": 67,
     "metadata": {},
     "output_type": "execute_result"
    }
   ],
   "source": [
    "cm"
   ]
  },
  {
   "cell_type": "code",
   "execution_count": 69,
   "id": "corporate-office",
   "metadata": {},
   "outputs": [],
   "source": [
    "import matplotlib.pyplot as plt\n",
    "import numpy as np\n",
    "import itertools\n",
    "\n",
    "def plot_confusion_matrix(cm, classes,\n",
    "                          normalize=False,\n",
    "                          title='Confusion matrix',\n",
    "                          cmap=plt.cm.Blues):\n",
    "    \"\"\"\n",
    "    This function prints and plots the confusion matrix.\n",
    "    Normalization can be applied by setting `normalize=True`.\n",
    "    \"\"\"\n",
    "    if normalize:\n",
    "        cm = cm.astype('float') / cm.sum(axis=1)[:, np.newaxis]\n",
    "        print(\"Normalized confusion matrix\")\n",
    "    else:\n",
    "        print('Confusion matrix, without normalization')\n",
    "\n",
    "    print(cm)\n",
    "\n",
    "    plt.imshow(cm, interpolation='nearest', cmap=cmap)\n",
    "    plt.title(title)\n",
    "    plt.colorbar()\n",
    "    tick_marks = np.arange(len(classes))\n",
    "    plt.xticks(tick_marks, classes, rotation=45)\n",
    "    plt.yticks(tick_marks, classes)\n",
    "\n",
    "    fmt = '.2f' if normalize else 'd'\n",
    "    thresh = cm.max() / 2.\n",
    "    for i, j in itertools.product(range(cm.shape[0]), range(cm.shape[1])):\n",
    "        plt.text(j, i, format(cm[i, j], fmt),\n",
    "                 horizontalalignment=\"center\",\n",
    "                 color=\"white\" if cm[i, j] > thresh else \"black\")\n",
    "\n",
    "    plt.tight_layout()\n",
    "    plt.ylabel('True label')\n",
    "    plt.xlabel('Predicted label')\n"
   ]
  },
  {
   "cell_type": "code",
   "execution_count": 68,
   "id": "natural-official",
   "metadata": {},
   "outputs": [
    {
     "data": {
      "text/plain": [
       "dict_keys(['Schedule 2', 'Schedule 6 (most serious offences)', 'Schedule 1 or 2', 'No Schedule Allocated', 'Schedule 1', 'Schedule 5 (serious crimes)', 'Schedule 7 (Prosecutorial bail)', 'Schedule 2 (police bail)', 'Schedule 2 or 7 (Prosecutorial bail)', 'Schedule 3 (minor offences – fine)', 'Schedule 5', 'Schedule 6 (Most Serious Offences)'])"
      ]
     },
     "execution_count": 68,
     "metadata": {},
     "output_type": "execute_result"
    }
   ],
   "source": [
    "label_dict.keys()"
   ]
  },
  {
   "cell_type": "code",
   "execution_count": 70,
   "id": "broad-election",
   "metadata": {},
   "outputs": [],
   "source": [
    "class_names = ['Schedule 2',\n",
    " 'Schedule 6 (most serious offences)',\n",
    " 'Schedule 1 or 2',\n",
    " 'No Schedule Allocated',\n",
    " 'Schedule 1',\n",
    " 'Schedule 5 (serious crimes)',\n",
    " 'Schedule 7 (Prosecutorial bail)',\n",
    " 'Schedule 2 (police bail)',\n",
    " 'Schedule 2 or 7 (Prosecutorial bail)',\n",
    " 'Schedule 3 (minor offences – fine)',\n",
    " 'Schedule 5',\n",
    " 'Schedule 6 (Most Serious Offences)']"
   ]
  },
  {
   "cell_type": "code",
   "execution_count": 71,
   "id": "automatic-booth",
   "metadata": {},
   "outputs": [
    {
     "name": "stdout",
     "output_type": "stream",
     "text": [
      "Confusion matrix, without normalization\n",
      "[[2396    0    0    0    0    0    0    0    0    0    0    0]\n",
      " [   0 1368    0    0    0    0    0    0    0    0    0    0]\n",
      " [   0    0 1054    0    0    0    0    0    0    0    0    0]\n",
      " [   0    0    0  651    0    0    0    0    0    0    0    0]\n",
      " [   0    0    0    0  725    0    0    0    0    0    0    0]\n",
      " [   0    0    0    0    0  693    0    0    0    0    0    0]\n",
      " [   0    0    0    0    0    0  679    0    0    0    0    0]\n",
      " [   0    0    0    0    0    0    0  338    0    0    0    0]\n",
      " [   0    0    0    0    0    0    0    0  301    0    0    0]\n",
      " [   0    0    0    0    0    0    0    0    0  316    0    0]\n",
      " [   0    0    0    0    0    0    0    0    0    0  324    0]\n",
      " [   0    0    0    0    0    0    0    0    0    0    0  348]]\n"
     ]
    },
    {
     "data": {
      "image/png": "[encoded data removed]",
      "text/plain": [
       "<Figure size 432x288 with 2 Axes>"
      ]
     },
     "metadata": {
      "needs_background": "light"
     },
     "output_type": "display_data"
    }
   ],
   "source": [
    "plot_confusion_matrix(cm,class_names)"
   ]
  },
  {
   "cell_type": "code",
   "execution_count": 72,
   "id": "recognized-courage",
   "metadata": {},
   "outputs": [],
   "source": [
    "import warnings\n",
    "warnings.filterwarnings('ignore')"
   ]
  },
  {
   "cell_type": "code",
   "execution_count": 73,
   "id": "designed-climate",
   "metadata": {
    "tags": []
   },
   "outputs": [
    {
     "name": "stdout",
     "output_type": "stream",
     "text": [
      "              precision    recall  f1-score   support\n",
      "\n",
      "         0.0       1.00      1.00      1.00      2396\n",
      "         1.0       1.00      1.00      1.00      1368\n",
      "         2.0       1.00      1.00      1.00      1054\n",
      "         3.0       1.00      1.00      1.00       651\n",
      "         4.0       1.00      1.00      1.00       725\n",
      "         5.0       1.00      1.00      1.00       693\n",
      "         6.0       1.00      1.00      1.00       679\n",
      "         7.0       1.00      1.00      1.00       338\n",
      "         8.0       1.00      1.00      1.00       301\n",
      "         9.0       1.00      1.00      1.00       316\n",
      "        10.0       1.00      1.00      1.00       324\n",
      "        11.0       1.00      1.00      1.00       348\n",
      "\n",
      "    accuracy                           1.00      9193\n",
      "   macro avg       1.00      1.00      1.00      9193\n",
      "weighted avg       1.00      1.00      1.00      9193\n",
      "\n"
     ]
    }
   ],
   "source": [
    "# Classication Report\n",
    "print(classification_report(y_true,y_pred))"
   ]
  },
  {
   "cell_type": "code",
   "execution_count": 74,
   "id": "greatest-doctrine",
   "metadata": {},
   "outputs": [
    {
     "name": "stdout",
     "output_type": "stream",
     "text": [
      "                                      precision    recall  f1-score   support\n",
      "\n",
      "                          Schedule 2       1.00      1.00      1.00      2396\n",
      "  Schedule 6 (most serious offences)       1.00      1.00      1.00      1368\n",
      "                     Schedule 1 or 2       1.00      1.00      1.00      1054\n",
      "               No Schedule Allocated       1.00      1.00      1.00       651\n",
      "                          Schedule 1       1.00      1.00      1.00       725\n",
      "         Schedule 5 (serious crimes)       1.00      1.00      1.00       693\n",
      "     Schedule 7 (Prosecutorial bail)       1.00      1.00      1.00       679\n",
      "            Schedule 2 (police bail)       1.00      1.00      1.00       338\n",
      "Schedule 2 or 7 (Prosecutorial bail)       1.00      1.00      1.00       301\n",
      "  Schedule 3 (minor offences – fine)       1.00      1.00      1.00       316\n",
      "                          Schedule 5       1.00      1.00      1.00       324\n",
      "  Schedule 6 (Most Serious Offences)       1.00      1.00      1.00       348\n",
      "\n",
      "                            accuracy                           1.00      9193\n",
      "                           macro avg       1.00      1.00      1.00      9193\n",
      "                        weighted avg       1.00      1.00      1.00      9193\n",
      "\n"
     ]
    }
   ],
   "source": [
    "# Classication Report\n",
    "print(classification_report(y_true,y_pred,target_names=class_names))"
   ]
  },
  {
   "cell_type": "code",
   "execution_count": 75,
   "id": "mathematical-bleeding",
   "metadata": {
    "jupyter": {
     "source_hidden": true
    },
    "tags": []
   },
   "outputs": [
    {
     "data": {
      "text/plain": [
       "<map at 0x7fd1eed38e80>"
      ]
     },
     "execution_count": 75,
     "metadata": {},
     "output_type": "execute_result"
    }
   ],
   "source": [
    "class_temp = predictions.select(\"label\").groupBy(\"label\")\\\n",
    "                        .count().sort('count', ascending=False).toPandas()\n",
    "class_temp = class_temp[\"label\"].values.tolist()\n",
    "class_names = map(str, class_temp)\n",
    "# # # print(class_name)\n",
    "class_names"
   ]
  },
  {
   "cell_type": "markdown",
   "id": "accurate-piano",
   "metadata": {},
   "source": [
    "### Making Single Prediction\n",
    "+ sample as DF\n",
    "+ apply pipeline"
   ]
  },
  {
   "cell_type": "code",
   "execution_count": 85,
   "id": "compact-stock",
   "metadata": {},
   "outputs": [],
   "source": [
    "from pyspark.sql.types import StringType"
   ]
  },
  {
   "cell_type": "code",
   "execution_count": 113,
   "id": "affecting-transmission",
   "metadata": {},
   "outputs": [],
   "source": [
    "ex1 = spark.createDataFrame([\n",
    "    (\"unlawful and intentional killing of a human being\",StringType())\n",
    "],\n",
    "# Column Name\n",
    "[\"Category\"]\n",
    "\n",
    ")"
   ]
  },
  {
   "cell_type": "code",
   "execution_count": 114,
   "id": "earlier-gibraltar",
   "metadata": {},
   "outputs": [
    {
     "name": "stdout",
     "output_type": "stream",
     "text": [
      "+--------------------+---+\n",
      "|            Category| _2|\n",
      "+--------------------+---+\n",
      "|unlawful and inte...| {}|\n",
      "+--------------------+---+\n",
      "\n"
     ]
    }
   ],
   "source": [
    "ex1.show()"
   ]
  },
  {
   "cell_type": "code",
   "execution_count": 115,
   "id": "known-pickup",
   "metadata": {},
   "outputs": [
    {
     "name": "stdout",
     "output_type": "stream",
     "text": [
      "+-------------------------------------------------+---+\n",
      "|Category                                         |_2 |\n",
      "+-------------------------------------------------+---+\n",
      "|unlawful and intentional killing of a human being|{} |\n",
      "+-------------------------------------------------+---+\n",
      "\n"
     ]
    }
   ],
   "source": [
    "# Show Full \n",
    "ex1.show(truncate=False)"
   ]
  },
  {
   "cell_type": "code",
   "execution_count": 116,
   "id": "white-disney",
   "metadata": {},
   "outputs": [],
   "source": [
    "# Predict\n",
    "pred_ex1 = lr_model.transform(ex1)"
   ]
  },
  {
   "cell_type": "code",
   "execution_count": 117,
   "id": "simplified-cincinnati",
   "metadata": {},
   "outputs": [
    {
     "name": "stdout",
     "output_type": "stream",
     "text": [
      "+--------------------+---+--------------------+--------------------+-----------+------------------+--------------------+--------------------+----------+\n",
      "|            Category| _2|            mytokens|     filtered_tokens|rawFeatures|vectorizedFeatures|       rawPrediction|         probability|prediction|\n",
      "+--------------------+---+--------------------+--------------------+-----------+------------------+--------------------+--------------------+----------+\n",
      "|unlawful and inte...| {}|[unlawful, and, i...|[unlawful, intent...| (50,[],[])|        (50,[],[])|[4.66059209546335...|[0.55629006363515...|       0.0|\n",
      "+--------------------+---+--------------------+--------------------+-----------+------------------+--------------------+--------------------+----------+\n",
      "\n"
     ]
    }
   ],
   "source": [
    "pred_ex1.show()"
   ]
  },
  {
   "cell_type": "code",
   "execution_count": 118,
   "id": "american-failing",
   "metadata": {},
   "outputs": [
    {
     "data": {
      "text/plain": [
       "['Category',\n",
       " '_2',\n",
       " 'mytokens',\n",
       " 'filtered_tokens',\n",
       " 'rawFeatures',\n",
       " 'vectorizedFeatures',\n",
       " 'rawPrediction',\n",
       " 'probability',\n",
       " 'prediction']"
      ]
     },
     "execution_count": 118,
     "metadata": {},
     "output_type": "execute_result"
    }
   ],
   "source": [
    "pred_ex1.columns"
   ]
  },
  {
   "cell_type": "code",
   "execution_count": 119,
   "id": "conservative-stage",
   "metadata": {},
   "outputs": [
    {
     "name": "stdout",
     "output_type": "stream",
     "text": [
      "+--------------------+--------------------+--------------------+----------+\n",
      "|            Category|       rawPrediction|         probability|prediction|\n",
      "+--------------------+--------------------+--------------------+----------+\n",
      "|unlawful and inte...|[4.66059209546335...|[0.55629006363515...|       0.0|\n",
      "+--------------------+--------------------+--------------------+----------+\n",
      "\n"
     ]
    }
   ],
   "source": [
    "pred_ex1.select('Category','rawPrediction','probability','prediction').show()"
   ]
  },
  {
   "cell_type": "code",
   "execution_count": null,
   "id": "prepared-appeal",
   "metadata": {},
   "outputs": [
    {
     "data": {
      "text/plain": [
       "{'Schedule 2': 0.0,\n",
       " 'Schedule 6 (most serious offences)': 1.0,\n",
       " 'Schedule 1 or 2': 2.0,\n",
       " 'No Schedule Allocated': 3.0,\n",
       " 'Schedule 1': 4.0,\n",
       " 'Schedule 5 (serious crimes)': 5.0,\n",
       " 'Schedule 7 (Prosecutorial bail)': 6.0,\n",
       " 'Schedule 2 (police bail)': 7.0,\n",
       " 'Schedule 2 or 7 (Prosecutorial bail)': 8.0,\n",
       " 'Schedule 3 (minor offences – fine)': 9.0,\n",
       " 'Schedule 5': 10.0,\n",
       " 'Schedule 6 (Most Serious Offences)': 11.0}"
      ]
     },
     "execution_count": 102,
     "metadata": {},
     "output_type": "execute_result"
    }
   ],
   "source": [
    "label_dict"
   ]
  },
  {
   "cell_type": "markdown",
   "id": "matched-might",
   "metadata": {},
   "source": [
    "### Save and Load Model"
   ]
  },
  {
   "cell_type": "code",
   "execution_count": 120,
   "id": "conservative-quantum",
   "metadata": {},
   "outputs": [
    {
     "name": "stderr",
     "output_type": "stream",
     "text": [
      "                                                                                \r"
     ]
    }
   ],
   "source": [
    "# Saving Model\n",
    "modelPath = \"../Apps/models/crime_lr_model_1_Feb_2022\"\n",
    "lr_model.save(modelPath)"
   ]
  },
  {
   "cell_type": "code",
   "execution_count": 121,
   "id": "indonesian-contents",
   "metadata": {},
   "outputs": [],
   "source": [
    "# Loading pickled model via pipeline api\n",
    "from pyspark.ml.pipeline import PipelineModel\n",
    "persistedModel = PipelineModel.load(modelPath)"
   ]
  },
  {
   "cell_type": "markdown",
   "id": "b981954c",
   "metadata": {},
   "source": [
    "#### Method 2: Save as Pickle\n"
   ]
  },
  {
   "cell_type": "code",
   "execution_count": 125,
   "id": "fc2bf7c1",
   "metadata": {},
   "outputs": [],
   "source": [
    "import joblib"
   ]
  },
  {
   "cell_type": "code",
   "execution_count": null,
   "id": "finnish-dryer",
   "metadata": {},
   "outputs": [],
   "source": [
    "joblib.dump(lr_model, \"test_model.pkl\")"
   ]
  },
  {
   "cell_type": "code",
   "execution_count": null,
   "id": "studied-specific",
   "metadata": {},
   "outputs": [],
   "source": []
  }
 ],
 "metadata": {
  "kernelspec": {
   "display_name": "Python 3.9.12 ('csir-env')",
   "language": "python",
   "name": "python3"
  },
  "language_info": {
   "codemirror_mode": {
    "name": "ipython",
    "version": 3
   },
   "file_extension": ".py",
   "mimetype": "text/x-python",
   "name": "python",
   "nbconvert_exporter": "python",
   "pygments_lexer": "ipython3",
   "version": "3.9.12"
  },
  "vscode": {
   "interpreter": {
    "hash": "8eed40589819f8e2c08314c30fbc820fcf92d670425a6a9e675796f96292ff75"
   }
  }
 },
 "nbformat": 4,
 "nbformat_minor": 5
}
