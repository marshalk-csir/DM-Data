{
 "cells": [
  {
   "cell_type": "markdown",
   "metadata": {},
   "source": [
    "# **Recommender Data Analysis**"
   ]
  },
  {
   "cell_type": "markdown",
   "metadata": {},
   "source": [
    "### **Libraries**"
   ]
  },
  {
   "cell_type": "code",
   "execution_count": 1,
   "metadata": {},
   "outputs": [],
   "source": [
    "import pandas as pd\n",
    "import numpy as np\n",
    "import matplotlib.pyplot as plt"
   ]
  },
  {
   "cell_type": "markdown",
   "metadata": {},
   "source": [
    "### **Load Data**"
   ]
  },
  {
   "cell_type": "code",
   "execution_count": 12,
   "metadata": {},
   "outputs": [],
   "source": [
    "# File Paths\n",
    "GautengData = \"../Data Storage/Education/Gauteng.xlsx\"\n",
    "SpecialSchoolsGau = \"../Data Storage/Education/special-schools-gauteng.xls\"\n",
    "# Load Data\n",
    "ds1 = pd.read_excel(GautengData)\n",
    "ds2 = pd.read_excel(SpecialSchoolsGau)"
   ]
  },
  {
   "cell_type": "code",
   "execution_count": 13,
   "metadata": {},
   "outputs": [
    {
     "name": "stdout",
     "output_type": "stream",
     "text": [
      "<class 'pandas.core.frame.DataFrame'>\n",
      "RangeIndex: 3008 entries, 0 to 3007\n",
      "Data columns (total 48 columns):\n",
      " #   Column                     Non-Null Count  Dtype         \n",
      "---  ------                     --------------  -----         \n",
      " 0   NatEmis                    3008 non-null   int64         \n",
      " 1   DataYear                   3008 non-null   int64         \n",
      " 2   Province                   3008 non-null   object        \n",
      " 3   ProvinceCD                 3008 non-null   int64         \n",
      " 4   Official_Institution_Name  3008 non-null   object        \n",
      " 5   STATUS                     3008 non-null   object        \n",
      " 6   Sector                     3008 non-null   object        \n",
      " 7   Type_DoE                   3008 non-null   object        \n",
      " 8   Phase_PED                  3008 non-null   object        \n",
      " 9   Specialisation             3008 non-null   object        \n",
      " 10  EIDistrict                 3008 non-null   object        \n",
      " 11  EICircuit                  3008 non-null   int64         \n",
      " 12  OwnerLand                  3008 non-null   object        \n",
      " 13  OwnerBuild                 3008 non-null   object        \n",
      " 14  ExDept                     3008 non-null   object        \n",
      " 15  Persal_PaypointNo          3008 non-null   int64         \n",
      " 16  Persal_ComponentNo         3008 non-null   int64         \n",
      " 17  ExamNo                     862 non-null    float64       \n",
      " 18  ExamCentre                 3008 non-null   object        \n",
      " 19  GIS_Long                   3008 non-null   object        \n",
      " 20  GIS_Lat                    3008 non-null   object        \n",
      " 21  DMunName                   3008 non-null   object        \n",
      " 22  LMunName                   3008 non-null   object        \n",
      " 23  Ward_ID                    3007 non-null   float64       \n",
      " 24  SP_Code                    3005 non-null   float64       \n",
      " 25  SP_Name                    3008 non-null   object        \n",
      " 26  Addressee                  2964 non-null   object        \n",
      " 27  Township_Village           2562 non-null   object        \n",
      " 28  Suburb                     2863 non-null   object        \n",
      " 29  Town_City                  3003 non-null   object        \n",
      " 30  StreetAddress              3008 non-null   object        \n",
      " 31  PostalAddress              3008 non-null   object        \n",
      " 32  Telephone                  3004 non-null   float64       \n",
      " 33  Section21                  3008 non-null   object        \n",
      " 34  Section21_Function         3008 non-null   object        \n",
      " 35  Quintile                   2766 non-null   object        \n",
      " 36  NAS                        3008 non-null   object        \n",
      " 37  NodalArea                  3008 non-null   object        \n",
      " 38  Registration_Date          961 non-null    datetime64[ns]\n",
      " 39  NoFeeSchool                3008 non-null   object        \n",
      " 40  Urban_Rural                3008 non-null   object        \n",
      " 41  Allocation                 2067 non-null   float64       \n",
      " 42  DemarcationFrom            3008 non-null   object        \n",
      " 43  DemarcationTo              3008 non-null   object        \n",
      " 44  OldNATEMIS                 3008 non-null   int64         \n",
      " 45  NewNATEMIS                 3008 non-null   int64         \n",
      " 46  Learners2021               2939 non-null   float64       \n",
      " 47  Educators2021              2910 non-null   float64       \n",
      "dtypes: datetime64[ns](1), float64(7), int64(8), object(32)\n",
      "memory usage: 1.1+ MB\n"
     ]
    }
   ],
   "source": [
    "ds1.info()\n",
    "#ds2.info()"
   ]
  },
  {
   "cell_type": "code",
   "execution_count": null,
   "metadata": {},
   "outputs": [],
   "source": []
  }
 ],
 "metadata": {
  "kernelspec": {
   "display_name": "Python 3.9.12 ('csir-env')",
   "language": "python",
   "name": "python3"
  },
  "language_info": {
   "codemirror_mode": {
    "name": "ipython",
    "version": 3
   },
   "file_extension": ".py",
   "mimetype": "text/x-python",
   "name": "python",
   "nbconvert_exporter": "python",
   "pygments_lexer": "ipython3",
   "version": "3.9.12"
  },
  "orig_nbformat": 4,
  "vscode": {
   "interpreter": {
    "hash": "8eed40589819f8e2c08314c30fbc820fcf92d670425a6a9e675796f96292ff75"
   }
  }
 },
 "nbformat": 4,
 "nbformat_minor": 2
}
