{
 "cells": [
  {
   "cell_type": "markdown",
   "metadata": {},
   "source": [
    "# **Recommender Data Analysis**"
   ]
  },
  {
   "cell_type": "markdown",
   "metadata": {},
   "source": [
    "### **Libraries**"
   ]
  },
  {
   "cell_type": "code",
   "execution_count": 14,
   "metadata": {},
   "outputs": [],
   "source": [
    "import pandas as pd\n",
    "import numpy as np\n",
    "import matplotlib.pyplot as plt\n",
    "import seaborn as sns"
   ]
  },
  {
   "cell_type": "markdown",
   "metadata": {},
   "source": [
    "### **Load Data**"
   ]
  },
  {
   "cell_type": "code",
   "execution_count": 12,
   "metadata": {},
   "outputs": [],
   "source": [
    "# File Paths\n",
    "GautengData = \"../Data Storage/Education/Gauteng.xlsx\"\n",
    "SpecialSchoolsGau = \"../Data Storage/Education/special-schools-gauteng.xls\"\n",
    "# Load Data\n",
    "ds1 = pd.read_excel(GautengData)\n",
    "ds2 = pd.read_excel(SpecialSchoolsGau)"
   ]
  },
  {
   "cell_type": "markdown",
   "metadata": {},
   "source": [
    "### **Basic information about data**"
   ]
  },
  {
   "cell_type": "code",
   "execution_count": 22,
   "metadata": {},
   "outputs": [
    {
     "data": {
      "text/plain": [
       "Index(['NatEmis', 'DataYear', 'Province', 'ProvinceCD',\n",
       "       'Official_Institution_Name', 'STATUS', 'Sector', 'Type_DoE',\n",
       "       'Phase_PED', 'Specialisation', 'EIDistrict', 'EICircuit', 'OwnerLand',\n",
       "       'OwnerBuild', 'ExDept', 'Persal_PaypointNo', 'Persal_ComponentNo',\n",
       "       'ExamNo', 'ExamCentre', 'GIS_Long', 'GIS_Lat', 'DMunName', 'LMunName',\n",
       "       'Ward_ID', 'SP_Code', 'SP_Name', 'Addressee', 'Township_Village',\n",
       "       'Suburb', 'Town_City', 'StreetAddress', 'PostalAddress', 'Telephone',\n",
       "       'Section21', 'Section21_Function', 'Quintile', 'NAS', 'NodalArea',\n",
       "       'Registration_Date', 'NoFeeSchool', 'Urban_Rural', 'Allocation',\n",
       "       'DemarcationFrom', 'DemarcationTo', 'OldNATEMIS', 'NewNATEMIS',\n",
       "       'Learners2021', 'Educators2021'],\n",
       "      dtype='object')"
      ]
     },
     "execution_count": 22,
     "metadata": {},
     "output_type": "execute_result"
    }
   ],
   "source": [
    "# DATA UNDERSTANDING\n",
    "\n",
    "# Preview Data\n",
    "#ds1.head()\n",
    "#ds2.head()\n",
    "ds1.columns\n",
    "#ds2.columns\n",
    "\n",
    "# Basic information\n",
    "#ds1.info()\n",
    "#ds2.info()\n",
    "\n",
    "# Descriptive statistics.\n",
    "#ds1.describe()\n",
    "#ds2.describe()"
   ]
  },
  {
   "cell_type": "markdown",
   "metadata": {},
   "source": [
    "### **Duplicate values**"
   ]
  },
  {
   "cell_type": "code",
   "execution_count": 18,
   "metadata": {},
   "outputs": [
    {
     "data": {
      "text/plain": [
       "0"
      ]
     },
     "execution_count": 18,
     "metadata": {},
     "output_type": "execute_result"
    }
   ],
   "source": [
    "# Find the duplicates\n",
    "#ds1.duplicated().sum()\n",
    "#ds2.duplicated().sum()"
   ]
  },
  {
   "cell_type": "markdown",
   "metadata": {},
   "source": [
    "### **Unique values in the data**"
   ]
  },
  {
   "cell_type": "code",
   "execution_count": 28,
   "metadata": {},
   "outputs": [
    {
     "data": {
      "text/plain": [
       "array(['OPEN', 'NOT YET  OPENED'], dtype=object)"
      ]
     },
     "execution_count": 28,
     "metadata": {},
     "output_type": "execute_result"
    }
   ],
   "source": [
    "#unique values\n",
    "\n",
    "#ds1['Province'].unique()\n",
    "#ds1['NoFeeSchool'].unique()\n",
    "#ds1['Official_Institution_Name'].unique()\n",
    "#ds1['STATUS'].unique()"
   ]
  },
  {
   "cell_type": "markdown",
   "metadata": {},
   "source": [
    "### **Visualize the Unique counts**"
   ]
  },
  {
   "cell_type": "code",
   "execution_count": 31,
   "metadata": {},
   "outputs": [
    {
     "name": "stderr",
     "output_type": "stream",
     "text": [
      "/home/marsh/anaconda3/envs/csir-env/lib/python3.9/site-packages/seaborn/_decorators.py:36: FutureWarning: Pass the following variable as a keyword arg: x. From version 0.12, the only valid positional argument will be `data`, and passing other arguments without an explicit keyword will result in an error or misinterpretation.\n",
      "  warnings.warn(\n"
     ]
    },
    {
     "ename": "AttributeError",
     "evalue": "'AxesSubplot' object has no attribute 'unique'",
     "output_type": "error",
     "traceback": [
      "\u001b[0;31m---------------------------------------------------------------------------\u001b[0m",
      "\u001b[0;31mAttributeError\u001b[0m                            Traceback (most recent call last)",
      "\u001b[1;32m/mnt/c/Users/Administrator/OneDrive - csir.co.za/Desktop/Decision Making.proj/Code/Decision-Making-Project/Notebooks/Recommender-EDA.ipynb Cell 13\u001b[0m in \u001b[0;36m<cell line: 3>\u001b[0;34m()\u001b[0m\n\u001b[1;32m      <a href='vscode-notebook-cell://wsl%2Bubuntu/mnt/c/Users/Administrator/OneDrive%20-%20csir.co.za/Desktop/Decision%20Making.proj/Code/Decision-Making-Project/Notebooks/Recommender-EDA.ipynb#X21sdnNjb2RlLXJlbW90ZQ%3D%3D?line=0'>1</a>\u001b[0m \u001b[39m#Plot the unique values\u001b[39;00m\n\u001b[0;32m----> <a href='vscode-notebook-cell://wsl%2Bubuntu/mnt/c/Users/Administrator/OneDrive%20-%20csir.co.za/Desktop/Decision%20Making.proj/Code/Decision-Making-Project/Notebooks/Recommender-EDA.ipynb#X21sdnNjb2RlLXJlbW90ZQ%3D%3D?line=2'>3</a>\u001b[0m sns\u001b[39m.\u001b[39;49mcountplot(ds1[\u001b[39m'\u001b[39;49m\u001b[39mSTATUS\u001b[39;49m\u001b[39m'\u001b[39;49m])\u001b[39m.\u001b[39;49munique()\n",
      "\u001b[0;31mAttributeError\u001b[0m: 'AxesSubplot' object has no attribute 'unique'"
     ]
    },
    {
     "data": {
      "image/png": "[encoded data removed]",
      "text/plain": [
       "<Figure size 432x288 with 1 Axes>"
      ]
     },
     "metadata": {
      "needs_background": "light"
     },
     "output_type": "display_data"
    }
   ],
   "source": [
    "#Plot the unique values\n",
    "\n",
    "sns.countplot(ds1['STATUS']).unique()"
   ]
  },
  {
   "cell_type": "markdown",
   "metadata": {},
   "source": [
    "### **Find the Null values**"
   ]
  },
  {
   "cell_type": "code",
   "execution_count": 34,
   "metadata": {},
   "outputs": [
    {
     "data": {
      "text/plain": [
       "NatEmis                         0\n",
       "DataYear                        0\n",
       "Province                        0\n",
       "ProvinceCD                      0\n",
       "Official_Institution_Name       0\n",
       "STATUS                          0\n",
       "Sector                          0\n",
       "Type_DoE                        0\n",
       "Phase_PED                       0\n",
       "Specialisation                  0\n",
       "EIDistrict                      0\n",
       "EICircuit                       0\n",
       "OwnerLand                       0\n",
       "OwnerBuild                      0\n",
       "ExDept                          0\n",
       "Persal_PaypointNo               0\n",
       "Persal_ComponentNo              0\n",
       "ExamNo                       2146\n",
       "ExamCentre                      0\n",
       "GIS_Long                        0\n",
       "GIS_Lat                         0\n",
       "DMunName                        0\n",
       "LMunName                        0\n",
       "Ward_ID                         1\n",
       "SP_Code                         3\n",
       "SP_Name                         0\n",
       "Addressee                      44\n",
       "Township_Village              446\n",
       "Suburb                        145\n",
       "Town_City                       5\n",
       "StreetAddress                   0\n",
       "PostalAddress                   0\n",
       "Telephone                       4\n",
       "Section21                       0\n",
       "Section21_Function              0\n",
       "Quintile                      242\n",
       "NAS                             0\n",
       "NodalArea                       0\n",
       "Registration_Date            2047\n",
       "NoFeeSchool                     0\n",
       "Urban_Rural                     0\n",
       "Allocation                    941\n",
       "DemarcationFrom                 0\n",
       "DemarcationTo                   0\n",
       "OldNATEMIS                      0\n",
       "NewNATEMIS                      0\n",
       "Learners2021                   69\n",
       "Educators2021                  98\n",
       "dtype: int64"
      ]
     },
     "execution_count": 34,
     "metadata": {},
     "output_type": "execute_result"
    }
   ],
   "source": [
    "# Find null values\n",
    "ds1.isnull().sum()\n",
    "#ds2.isnull().sum()"
   ]
  },
  {
   "cell_type": "markdown",
   "metadata": {},
   "source": [
    "### **Replace the Null values**"
   ]
  },
  {
   "cell_type": "code",
   "execution_count": null,
   "metadata": {},
   "outputs": [],
   "source": [
    "# Replace null values\n",
    "# ds1.replace(np.nan,'0',inplace = True)\n",
    "# ds2.replace(np.nan,'0',inplace = True)\n",
    "\n",
    "# Check the changes now\n",
    "# ds1.isnull().sum()\n",
    "# ds2.isnull().sum()"
   ]
  },
  {
   "cell_type": "markdown",
   "metadata": {},
   "source": [
    "### **Datatypes**"
   ]
  },
  {
   "cell_type": "code",
   "execution_count": 36,
   "metadata": {},
   "outputs": [
    {
     "data": {
      "text/plain": [
       "NatEmis                               int64\n",
       "DataYear                              int64\n",
       "Province                             object\n",
       "ProvinceCD                            int64\n",
       "Official_Institution_Name            object\n",
       "STATUS                               object\n",
       "Sector                               object\n",
       "Type_DoE                             object\n",
       "Phase_PED                            object\n",
       "Specialisation                       object\n",
       "EIDistrict                           object\n",
       "EICircuit                             int64\n",
       "OwnerLand                            object\n",
       "OwnerBuild                           object\n",
       "ExDept                               object\n",
       "Persal_PaypointNo                     int64\n",
       "Persal_ComponentNo                    int64\n",
       "ExamNo                              float64\n",
       "ExamCentre                           object\n",
       "GIS_Long                             object\n",
       "GIS_Lat                              object\n",
       "DMunName                             object\n",
       "LMunName                             object\n",
       "Ward_ID                             float64\n",
       "SP_Code                             float64\n",
       "SP_Name                              object\n",
       "Addressee                            object\n",
       "Township_Village                     object\n",
       "Suburb                               object\n",
       "Town_City                            object\n",
       "StreetAddress                        object\n",
       "PostalAddress                        object\n",
       "Telephone                           float64\n",
       "Section21                            object\n",
       "Section21_Function                   object\n",
       "Quintile                             object\n",
       "NAS                                  object\n",
       "NodalArea                            object\n",
       "Registration_Date            datetime64[ns]\n",
       "NoFeeSchool                          object\n",
       "Urban_Rural                          object\n",
       "Allocation                          float64\n",
       "DemarcationFrom                      object\n",
       "DemarcationTo                        object\n",
       "OldNATEMIS                            int64\n",
       "NewNATEMIS                            int64\n",
       "Learners2021                        float64\n",
       "Educators2021                       float64\n",
       "dtype: object"
      ]
     },
     "execution_count": 36,
     "metadata": {},
     "output_type": "execute_result"
    }
   ],
   "source": [
    "# Datatypes\n",
    "ds1.dtypes\n",
    "# ds2.dtypes"
   ]
  },
  {
   "cell_type": "markdown",
   "metadata": {},
   "source": [
    "### **Filter the Data**"
   ]
  },
  {
   "cell_type": "code",
   "execution_count": 35,
   "metadata": {},
   "outputs": [
    {
     "data": {
      "text/html": [
       "<div>\n",
       "<style scoped>\n",
       "    .dataframe tbody tr th:only-of-type {\n",
       "        vertical-align: middle;\n",
       "    }\n",
       "\n",
       "    .dataframe tbody tr th {\n",
       "        vertical-align: top;\n",
       "    }\n",
       "\n",
       "    .dataframe thead th {\n",
       "        text-align: right;\n",
       "    }\n",
       "</style>\n",
       "<table border=\"1\" class=\"dataframe\">\n",
       "  <thead>\n",
       "    <tr style=\"text-align: right;\">\n",
       "      <th></th>\n",
       "      <th>NatEmis</th>\n",
       "      <th>DataYear</th>\n",
       "      <th>Province</th>\n",
       "      <th>ProvinceCD</th>\n",
       "      <th>Official_Institution_Name</th>\n",
       "      <th>STATUS</th>\n",
       "      <th>Sector</th>\n",
       "      <th>Type_DoE</th>\n",
       "      <th>Phase_PED</th>\n",
       "      <th>Specialisation</th>\n",
       "      <th>...</th>\n",
       "      <th>Registration_Date</th>\n",
       "      <th>NoFeeSchool</th>\n",
       "      <th>Urban_Rural</th>\n",
       "      <th>Allocation</th>\n",
       "      <th>DemarcationFrom</th>\n",
       "      <th>DemarcationTo</th>\n",
       "      <th>OldNATEMIS</th>\n",
       "      <th>NewNATEMIS</th>\n",
       "      <th>Learners2021</th>\n",
       "      <th>Educators2021</th>\n",
       "    </tr>\n",
       "  </thead>\n",
       "  <tbody>\n",
       "    <tr>\n",
       "      <th>0</th>\n",
       "      <td>700401061</td>\n",
       "      <td>2021</td>\n",
       "      <td>GT</td>\n",
       "      <td>7</td>\n",
       "      <td>ROYAL KINGS SCHOOL-MIDRAND</td>\n",
       "      <td>OPEN</td>\n",
       "      <td>INDEPENDENT</td>\n",
       "      <td>ORDINARY SCHOOL</td>\n",
       "      <td>COMBINED SCHOOL</td>\n",
       "      <td>ORDINARY</td>\n",
       "      <td>...</td>\n",
       "      <td>2020-01-22</td>\n",
       "      <td>NO</td>\n",
       "      <td>URBAN</td>\n",
       "      <td>NaN</td>\n",
       "      <td>GT</td>\n",
       "      <td>NOT MOVED</td>\n",
       "      <td>700401061</td>\n",
       "      <td>99</td>\n",
       "      <td>NaN</td>\n",
       "      <td>NaN</td>\n",
       "    </tr>\n",
       "    <tr>\n",
       "      <th>2</th>\n",
       "      <td>700401134</td>\n",
       "      <td>2021</td>\n",
       "      <td>GT</td>\n",
       "      <td>7</td>\n",
       "      <td>THINKINC ACADEMY</td>\n",
       "      <td>OPEN</td>\n",
       "      <td>INDEPENDENT</td>\n",
       "      <td>ORDINARY SCHOOL</td>\n",
       "      <td>COMBINED SCHOOL</td>\n",
       "      <td>ORDINARY</td>\n",
       "      <td>...</td>\n",
       "      <td>2021-05-04</td>\n",
       "      <td>NO</td>\n",
       "      <td>URBAN</td>\n",
       "      <td>NaN</td>\n",
       "      <td>GT</td>\n",
       "      <td>NOT MOVED</td>\n",
       "      <td>700401134</td>\n",
       "      <td>99</td>\n",
       "      <td>NaN</td>\n",
       "      <td>NaN</td>\n",
       "    </tr>\n",
       "    <tr>\n",
       "      <th>3</th>\n",
       "      <td>700132654</td>\n",
       "      <td>2021</td>\n",
       "      <td>GT</td>\n",
       "      <td>7</td>\n",
       "      <td>OLYMPUS EDUCATIONAL INSTITUTE</td>\n",
       "      <td>OPEN</td>\n",
       "      <td>INDEPENDENT</td>\n",
       "      <td>ORDINARY SCHOOL</td>\n",
       "      <td>SECONDARY SCHOOL</td>\n",
       "      <td>ORDINARY</td>\n",
       "      <td>...</td>\n",
       "      <td>NaT</td>\n",
       "      <td>NO</td>\n",
       "      <td>URBAN</td>\n",
       "      <td>NaN</td>\n",
       "      <td>GT</td>\n",
       "      <td>NOT MOVED</td>\n",
       "      <td>700132654</td>\n",
       "      <td>99</td>\n",
       "      <td>NaN</td>\n",
       "      <td>NaN</td>\n",
       "    </tr>\n",
       "    <tr>\n",
       "      <th>4</th>\n",
       "      <td>700400745</td>\n",
       "      <td>2021</td>\n",
       "      <td>GT</td>\n",
       "      <td>7</td>\n",
       "      <td>THE MUSTARD SEED PRE PRIMARY AND PRIMARY SCHOOL</td>\n",
       "      <td>OPEN</td>\n",
       "      <td>INDEPENDENT</td>\n",
       "      <td>ORDINARY SCHOOL</td>\n",
       "      <td>PRIMARY SCHOOL</td>\n",
       "      <td>ORDINARY</td>\n",
       "      <td>...</td>\n",
       "      <td>2014-01-15</td>\n",
       "      <td>NO</td>\n",
       "      <td>URBAN</td>\n",
       "      <td>NaN</td>\n",
       "      <td>GT</td>\n",
       "      <td>NOT MOVED</td>\n",
       "      <td>700400745</td>\n",
       "      <td>99</td>\n",
       "      <td>NaN</td>\n",
       "      <td>NaN</td>\n",
       "    </tr>\n",
       "    <tr>\n",
       "      <th>5</th>\n",
       "      <td>700131524</td>\n",
       "      <td>2021</td>\n",
       "      <td>GT</td>\n",
       "      <td>7</td>\n",
       "      <td>ST JOHN'S COLLEGE</td>\n",
       "      <td>OPEN</td>\n",
       "      <td>INDEPENDENT</td>\n",
       "      <td>ORDINARY SCHOOL</td>\n",
       "      <td>SECONDARY SCHOOL</td>\n",
       "      <td>ORDINARY</td>\n",
       "      <td>...</td>\n",
       "      <td>NaT</td>\n",
       "      <td>NO</td>\n",
       "      <td>URBAN</td>\n",
       "      <td>NaN</td>\n",
       "      <td>GT</td>\n",
       "      <td>NOT MOVED</td>\n",
       "      <td>700131524</td>\n",
       "      <td>99</td>\n",
       "      <td>NaN</td>\n",
       "      <td>NaN</td>\n",
       "    </tr>\n",
       "  </tbody>\n",
       "</table>\n",
       "<p>5 rows × 48 columns</p>\n",
       "</div>"
      ],
      "text/plain": [
       "     NatEmis  DataYear Province  ProvinceCD  \\\n",
       "0  700401061      2021       GT           7   \n",
       "2  700401134      2021       GT           7   \n",
       "3  700132654      2021       GT           7   \n",
       "4  700400745      2021       GT           7   \n",
       "5  700131524      2021       GT           7   \n",
       "\n",
       "                         Official_Institution_Name STATUS       Sector  \\\n",
       "0                       ROYAL KINGS SCHOOL-MIDRAND   OPEN  INDEPENDENT   \n",
       "2                                 THINKINC ACADEMY   OPEN  INDEPENDENT   \n",
       "3                    OLYMPUS EDUCATIONAL INSTITUTE   OPEN  INDEPENDENT   \n",
       "4  THE MUSTARD SEED PRE PRIMARY AND PRIMARY SCHOOL   OPEN  INDEPENDENT   \n",
       "5                                ST JOHN'S COLLEGE   OPEN  INDEPENDENT   \n",
       "\n",
       "          Type_DoE         Phase_PED Specialisation  ... Registration_Date  \\\n",
       "0  ORDINARY SCHOOL   COMBINED SCHOOL       ORDINARY  ...        2020-01-22   \n",
       "2  ORDINARY SCHOOL   COMBINED SCHOOL       ORDINARY  ...        2021-05-04   \n",
       "3  ORDINARY SCHOOL  SECONDARY SCHOOL       ORDINARY  ...               NaT   \n",
       "4  ORDINARY SCHOOL    PRIMARY SCHOOL       ORDINARY  ...        2014-01-15   \n",
       "5  ORDINARY SCHOOL  SECONDARY SCHOOL       ORDINARY  ...               NaT   \n",
       "\n",
       "   NoFeeSchool Urban_Rural Allocation DemarcationFrom  DemarcationTo  \\\n",
       "0           NO       URBAN        NaN              GT      NOT MOVED   \n",
       "2           NO       URBAN        NaN              GT      NOT MOVED   \n",
       "3           NO       URBAN        NaN              GT      NOT MOVED   \n",
       "4           NO       URBAN        NaN              GT      NOT MOVED   \n",
       "5           NO       URBAN        NaN              GT      NOT MOVED   \n",
       "\n",
       "   OldNATEMIS  NewNATEMIS Learners2021 Educators2021  \n",
       "0   700401061          99          NaN           NaN  \n",
       "2   700401134          99          NaN           NaN  \n",
       "3   700132654          99          NaN           NaN  \n",
       "4   700400745          99          NaN           NaN  \n",
       "5   700131524          99          NaN           NaN  \n",
       "\n",
       "[5 rows x 48 columns]"
      ]
     },
     "execution_count": 35,
     "metadata": {},
     "output_type": "execute_result"
    }
   ],
   "source": [
    "# Filter data\n",
    "\n",
    "#ds1[ds1['STATUS']==\"OPEN\"].head()"
   ]
  },
  {
   "cell_type": "markdown",
   "metadata": {},
   "source": [
    "### **Box Plot**"
   ]
  },
  {
   "cell_type": "code",
   "execution_count": 37,
   "metadata": {},
   "outputs": [
    {
     "data": {
      "text/plain": [
       "<AxesSubplot:>"
      ]
     },
     "execution_count": 37,
     "metadata": {},
     "output_type": "execute_result"
    },
    {
     "data": {
      "image/png": "[encoded data removed]",
      "text/plain": [
       "<Figure size 432x288 with 1 Axes>"
      ]
     },
     "metadata": {
      "needs_background": "light"
     },
     "output_type": "display_data"
    }
   ],
   "source": [
    "#Boxplot\n",
    "\n",
    "#ds1[['DataYear']].boxplot()"
   ]
  },
  {
   "cell_type": "markdown",
   "metadata": {},
   "source": [
    "### **Correlation Plot**"
   ]
  },
  {
   "cell_type": "code",
   "execution_count": 38,
   "metadata": {},
   "outputs": [
    {
     "data": {
      "text/html": [
       "<div>\n",
       "<style scoped>\n",
       "    .dataframe tbody tr th:only-of-type {\n",
       "        vertical-align: middle;\n",
       "    }\n",
       "\n",
       "    .dataframe tbody tr th {\n",
       "        vertical-align: top;\n",
       "    }\n",
       "\n",
       "    .dataframe thead th {\n",
       "        text-align: right;\n",
       "    }\n",
       "</style>\n",
       "<table border=\"1\" class=\"dataframe\">\n",
       "  <thead>\n",
       "    <tr style=\"text-align: right;\">\n",
       "      <th></th>\n",
       "      <th>NatEmis</th>\n",
       "      <th>DataYear</th>\n",
       "      <th>ProvinceCD</th>\n",
       "      <th>EICircuit</th>\n",
       "      <th>Persal_PaypointNo</th>\n",
       "      <th>Persal_ComponentNo</th>\n",
       "      <th>ExamNo</th>\n",
       "      <th>Ward_ID</th>\n",
       "      <th>SP_Code</th>\n",
       "      <th>Telephone</th>\n",
       "      <th>Allocation</th>\n",
       "      <th>OldNATEMIS</th>\n",
       "      <th>NewNATEMIS</th>\n",
       "      <th>Learners2021</th>\n",
       "      <th>Educators2021</th>\n",
       "    </tr>\n",
       "  </thead>\n",
       "  <tbody>\n",
       "    <tr>\n",
       "      <th>NatEmis</th>\n",
       "      <td>1.000000</td>\n",
       "      <td>NaN</td>\n",
       "      <td>NaN</td>\n",
       "      <td>0.016165</td>\n",
       "      <td>-0.133616</td>\n",
       "      <td>-0.276673</td>\n",
       "      <td>0.969957</td>\n",
       "      <td>-0.054008</td>\n",
       "      <td>-0.049309</td>\n",
       "      <td>0.231444</td>\n",
       "      <td>0.230878</td>\n",
       "      <td>-0.612973</td>\n",
       "      <td>0.767938</td>\n",
       "      <td>-0.060071</td>\n",
       "      <td>-0.127871</td>\n",
       "    </tr>\n",
       "    <tr>\n",
       "      <th>DataYear</th>\n",
       "      <td>NaN</td>\n",
       "      <td>NaN</td>\n",
       "      <td>NaN</td>\n",
       "      <td>NaN</td>\n",
       "      <td>NaN</td>\n",
       "      <td>NaN</td>\n",
       "      <td>NaN</td>\n",
       "      <td>NaN</td>\n",
       "      <td>NaN</td>\n",
       "      <td>NaN</td>\n",
       "      <td>NaN</td>\n",
       "      <td>NaN</td>\n",
       "      <td>NaN</td>\n",
       "      <td>NaN</td>\n",
       "      <td>NaN</td>\n",
       "    </tr>\n",
       "    <tr>\n",
       "      <th>ProvinceCD</th>\n",
       "      <td>NaN</td>\n",
       "      <td>NaN</td>\n",
       "      <td>NaN</td>\n",
       "      <td>NaN</td>\n",
       "      <td>NaN</td>\n",
       "      <td>NaN</td>\n",
       "      <td>NaN</td>\n",
       "      <td>NaN</td>\n",
       "      <td>NaN</td>\n",
       "      <td>NaN</td>\n",
       "      <td>NaN</td>\n",
       "      <td>NaN</td>\n",
       "      <td>NaN</td>\n",
       "      <td>NaN</td>\n",
       "      <td>NaN</td>\n",
       "    </tr>\n",
       "    <tr>\n",
       "      <th>EICircuit</th>\n",
       "      <td>0.016165</td>\n",
       "      <td>NaN</td>\n",
       "      <td>NaN</td>\n",
       "      <td>1.000000</td>\n",
       "      <td>0.020180</td>\n",
       "      <td>0.028531</td>\n",
       "      <td>0.015333</td>\n",
       "      <td>0.021779</td>\n",
       "      <td>0.012635</td>\n",
       "      <td>0.033478</td>\n",
       "      <td>0.157533</td>\n",
       "      <td>-0.107286</td>\n",
       "      <td>0.081223</td>\n",
       "      <td>0.002186</td>\n",
       "      <td>-0.014234</td>\n",
       "    </tr>\n",
       "    <tr>\n",
       "      <th>Persal_PaypointNo</th>\n",
       "      <td>-0.133616</td>\n",
       "      <td>NaN</td>\n",
       "      <td>NaN</td>\n",
       "      <td>0.020180</td>\n",
       "      <td>1.000000</td>\n",
       "      <td>0.855774</td>\n",
       "      <td>-0.054548</td>\n",
       "      <td>-0.122644</td>\n",
       "      <td>-0.121082</td>\n",
       "      <td>-0.062028</td>\n",
       "      <td>-0.060784</td>\n",
       "      <td>-0.114154</td>\n",
       "      <td>0.140587</td>\n",
       "      <td>0.568798</td>\n",
       "      <td>0.283564</td>\n",
       "    </tr>\n",
       "    <tr>\n",
       "      <th>Persal_ComponentNo</th>\n",
       "      <td>-0.276673</td>\n",
       "      <td>NaN</td>\n",
       "      <td>NaN</td>\n",
       "      <td>0.028531</td>\n",
       "      <td>0.855774</td>\n",
       "      <td>1.000000</td>\n",
       "      <td>-0.258747</td>\n",
       "      <td>-0.075116</td>\n",
       "      <td>-0.076563</td>\n",
       "      <td>-0.114127</td>\n",
       "      <td>-0.147286</td>\n",
       "      <td>-0.016977</td>\n",
       "      <td>0.046914</td>\n",
       "      <td>0.438780</td>\n",
       "      <td>0.227368</td>\n",
       "    </tr>\n",
       "    <tr>\n",
       "      <th>ExamNo</th>\n",
       "      <td>0.969957</td>\n",
       "      <td>NaN</td>\n",
       "      <td>NaN</td>\n",
       "      <td>0.015333</td>\n",
       "      <td>-0.054548</td>\n",
       "      <td>-0.258747</td>\n",
       "      <td>1.000000</td>\n",
       "      <td>-0.077587</td>\n",
       "      <td>-0.070093</td>\n",
       "      <td>0.299906</td>\n",
       "      <td>0.261932</td>\n",
       "      <td>-0.560296</td>\n",
       "      <td>0.744397</td>\n",
       "      <td>-0.104401</td>\n",
       "      <td>-0.195658</td>\n",
       "    </tr>\n",
       "    <tr>\n",
       "      <th>Ward_ID</th>\n",
       "      <td>-0.054008</td>\n",
       "      <td>NaN</td>\n",
       "      <td>NaN</td>\n",
       "      <td>0.021779</td>\n",
       "      <td>-0.122644</td>\n",
       "      <td>-0.075116</td>\n",
       "      <td>-0.077587</td>\n",
       "      <td>1.000000</td>\n",
       "      <td>0.998636</td>\n",
       "      <td>-0.039650</td>\n",
       "      <td>-0.034746</td>\n",
       "      <td>-0.082643</td>\n",
       "      <td>0.101229</td>\n",
       "      <td>-0.000294</td>\n",
       "      <td>0.036715</td>\n",
       "    </tr>\n",
       "    <tr>\n",
       "      <th>SP_Code</th>\n",
       "      <td>-0.049309</td>\n",
       "      <td>NaN</td>\n",
       "      <td>NaN</td>\n",
       "      <td>0.012635</td>\n",
       "      <td>-0.121082</td>\n",
       "      <td>-0.076563</td>\n",
       "      <td>-0.070093</td>\n",
       "      <td>0.998636</td>\n",
       "      <td>1.000000</td>\n",
       "      <td>-0.039752</td>\n",
       "      <td>-0.036281</td>\n",
       "      <td>-0.087201</td>\n",
       "      <td>0.106989</td>\n",
       "      <td>0.000146</td>\n",
       "      <td>0.036439</td>\n",
       "    </tr>\n",
       "    <tr>\n",
       "      <th>Telephone</th>\n",
       "      <td>0.231444</td>\n",
       "      <td>NaN</td>\n",
       "      <td>NaN</td>\n",
       "      <td>0.033478</td>\n",
       "      <td>-0.062028</td>\n",
       "      <td>-0.114127</td>\n",
       "      <td>0.299906</td>\n",
       "      <td>-0.039650</td>\n",
       "      <td>-0.039752</td>\n",
       "      <td>1.000000</td>\n",
       "      <td>0.198510</td>\n",
       "      <td>-0.101870</td>\n",
       "      <td>0.164853</td>\n",
       "      <td>-0.047299</td>\n",
       "      <td>-0.098754</td>\n",
       "    </tr>\n",
       "    <tr>\n",
       "      <th>Allocation</th>\n",
       "      <td>0.230878</td>\n",
       "      <td>NaN</td>\n",
       "      <td>NaN</td>\n",
       "      <td>0.157533</td>\n",
       "      <td>-0.060784</td>\n",
       "      <td>-0.147286</td>\n",
       "      <td>0.261932</td>\n",
       "      <td>-0.034746</td>\n",
       "      <td>-0.036281</td>\n",
       "      <td>0.198510</td>\n",
       "      <td>1.000000</td>\n",
       "      <td>-0.137075</td>\n",
       "      <td>0.165581</td>\n",
       "      <td>0.014201</td>\n",
       "      <td>-0.279641</td>\n",
       "    </tr>\n",
       "    <tr>\n",
       "      <th>OldNATEMIS</th>\n",
       "      <td>-0.612973</td>\n",
       "      <td>NaN</td>\n",
       "      <td>NaN</td>\n",
       "      <td>-0.107286</td>\n",
       "      <td>-0.114154</td>\n",
       "      <td>-0.016977</td>\n",
       "      <td>-0.560296</td>\n",
       "      <td>-0.082643</td>\n",
       "      <td>-0.087201</td>\n",
       "      <td>-0.101870</td>\n",
       "      <td>-0.137075</td>\n",
       "      <td>1.000000</td>\n",
       "      <td>-0.805799</td>\n",
       "      <td>-0.031168</td>\n",
       "      <td>0.029475</td>\n",
       "    </tr>\n",
       "    <tr>\n",
       "      <th>NewNATEMIS</th>\n",
       "      <td>0.767938</td>\n",
       "      <td>NaN</td>\n",
       "      <td>NaN</td>\n",
       "      <td>0.081223</td>\n",
       "      <td>0.140587</td>\n",
       "      <td>0.046914</td>\n",
       "      <td>0.744397</td>\n",
       "      <td>0.101229</td>\n",
       "      <td>0.106989</td>\n",
       "      <td>0.164853</td>\n",
       "      <td>0.165581</td>\n",
       "      <td>-0.805799</td>\n",
       "      <td>1.000000</td>\n",
       "      <td>0.040558</td>\n",
       "      <td>-0.028784</td>\n",
       "    </tr>\n",
       "    <tr>\n",
       "      <th>Learners2021</th>\n",
       "      <td>-0.060071</td>\n",
       "      <td>NaN</td>\n",
       "      <td>NaN</td>\n",
       "      <td>0.002186</td>\n",
       "      <td>0.568798</td>\n",
       "      <td>0.438780</td>\n",
       "      <td>-0.104401</td>\n",
       "      <td>-0.000294</td>\n",
       "      <td>0.000146</td>\n",
       "      <td>-0.047299</td>\n",
       "      <td>0.014201</td>\n",
       "      <td>-0.031168</td>\n",
       "      <td>0.040558</td>\n",
       "      <td>1.000000</td>\n",
       "      <td>0.773227</td>\n",
       "    </tr>\n",
       "    <tr>\n",
       "      <th>Educators2021</th>\n",
       "      <td>-0.127871</td>\n",
       "      <td>NaN</td>\n",
       "      <td>NaN</td>\n",
       "      <td>-0.014234</td>\n",
       "      <td>0.283564</td>\n",
       "      <td>0.227368</td>\n",
       "      <td>-0.195658</td>\n",
       "      <td>0.036715</td>\n",
       "      <td>0.036439</td>\n",
       "      <td>-0.098754</td>\n",
       "      <td>-0.279641</td>\n",
       "      <td>0.029475</td>\n",
       "      <td>-0.028784</td>\n",
       "      <td>0.773227</td>\n",
       "      <td>1.000000</td>\n",
       "    </tr>\n",
       "  </tbody>\n",
       "</table>\n",
       "</div>"
      ],
      "text/plain": [
       "                     NatEmis  DataYear  ProvinceCD  EICircuit  \\\n",
       "NatEmis             1.000000       NaN         NaN   0.016165   \n",
       "DataYear                 NaN       NaN         NaN        NaN   \n",
       "ProvinceCD               NaN       NaN         NaN        NaN   \n",
       "EICircuit           0.016165       NaN         NaN   1.000000   \n",
       "Persal_PaypointNo  -0.133616       NaN         NaN   0.020180   \n",
       "Persal_ComponentNo -0.276673       NaN         NaN   0.028531   \n",
       "ExamNo              0.969957       NaN         NaN   0.015333   \n",
       "Ward_ID            -0.054008       NaN         NaN   0.021779   \n",
       "SP_Code            -0.049309       NaN         NaN   0.012635   \n",
       "Telephone           0.231444       NaN         NaN   0.033478   \n",
       "Allocation          0.230878       NaN         NaN   0.157533   \n",
       "OldNATEMIS         -0.612973       NaN         NaN  -0.107286   \n",
       "NewNATEMIS          0.767938       NaN         NaN   0.081223   \n",
       "Learners2021       -0.060071       NaN         NaN   0.002186   \n",
       "Educators2021      -0.127871       NaN         NaN  -0.014234   \n",
       "\n",
       "                    Persal_PaypointNo  Persal_ComponentNo    ExamNo   Ward_ID  \\\n",
       "NatEmis                     -0.133616           -0.276673  0.969957 -0.054008   \n",
       "DataYear                          NaN                 NaN       NaN       NaN   \n",
       "ProvinceCD                        NaN                 NaN       NaN       NaN   \n",
       "EICircuit                    0.020180            0.028531  0.015333  0.021779   \n",
       "Persal_PaypointNo            1.000000            0.855774 -0.054548 -0.122644   \n",
       "Persal_ComponentNo           0.855774            1.000000 -0.258747 -0.075116   \n",
       "ExamNo                      -0.054548           -0.258747  1.000000 -0.077587   \n",
       "Ward_ID                     -0.122644           -0.075116 -0.077587  1.000000   \n",
       "SP_Code                     -0.121082           -0.076563 -0.070093  0.998636   \n",
       "Telephone                   -0.062028           -0.114127  0.299906 -0.039650   \n",
       "Allocation                  -0.060784           -0.147286  0.261932 -0.034746   \n",
       "OldNATEMIS                  -0.114154           -0.016977 -0.560296 -0.082643   \n",
       "NewNATEMIS                   0.140587            0.046914  0.744397  0.101229   \n",
       "Learners2021                 0.568798            0.438780 -0.104401 -0.000294   \n",
       "Educators2021                0.283564            0.227368 -0.195658  0.036715   \n",
       "\n",
       "                     SP_Code  Telephone  Allocation  OldNATEMIS  NewNATEMIS  \\\n",
       "NatEmis            -0.049309   0.231444    0.230878   -0.612973    0.767938   \n",
       "DataYear                 NaN        NaN         NaN         NaN         NaN   \n",
       "ProvinceCD               NaN        NaN         NaN         NaN         NaN   \n",
       "EICircuit           0.012635   0.033478    0.157533   -0.107286    0.081223   \n",
       "Persal_PaypointNo  -0.121082  -0.062028   -0.060784   -0.114154    0.140587   \n",
       "Persal_ComponentNo -0.076563  -0.114127   -0.147286   -0.016977    0.046914   \n",
       "ExamNo             -0.070093   0.299906    0.261932   -0.560296    0.744397   \n",
       "Ward_ID             0.998636  -0.039650   -0.034746   -0.082643    0.101229   \n",
       "SP_Code             1.000000  -0.039752   -0.036281   -0.087201    0.106989   \n",
       "Telephone          -0.039752   1.000000    0.198510   -0.101870    0.164853   \n",
       "Allocation         -0.036281   0.198510    1.000000   -0.137075    0.165581   \n",
       "OldNATEMIS         -0.087201  -0.101870   -0.137075    1.000000   -0.805799   \n",
       "NewNATEMIS          0.106989   0.164853    0.165581   -0.805799    1.000000   \n",
       "Learners2021        0.000146  -0.047299    0.014201   -0.031168    0.040558   \n",
       "Educators2021       0.036439  -0.098754   -0.279641    0.029475   -0.028784   \n",
       "\n",
       "                    Learners2021  Educators2021  \n",
       "NatEmis                -0.060071      -0.127871  \n",
       "DataYear                     NaN            NaN  \n",
       "ProvinceCD                   NaN            NaN  \n",
       "EICircuit               0.002186      -0.014234  \n",
       "Persal_PaypointNo       0.568798       0.283564  \n",
       "Persal_ComponentNo      0.438780       0.227368  \n",
       "ExamNo                 -0.104401      -0.195658  \n",
       "Ward_ID                -0.000294       0.036715  \n",
       "SP_Code                 0.000146       0.036439  \n",
       "Telephone              -0.047299      -0.098754  \n",
       "Allocation              0.014201      -0.279641  \n",
       "OldNATEMIS             -0.031168       0.029475  \n",
       "NewNATEMIS              0.040558      -0.028784  \n",
       "Learners2021            1.000000       0.773227  \n",
       "Educators2021           0.773227       1.000000  "
      ]
     },
     "execution_count": 38,
     "metadata": {},
     "output_type": "execute_result"
    }
   ],
   "source": [
    "#Correlation \n",
    "\n",
    "ds1.corr()"
   ]
  },
  {
   "cell_type": "code",
   "execution_count": 39,
   "metadata": {},
   "outputs": [
    {
     "data": {
      "text/plain": [
       "<AxesSubplot:>"
      ]
     },
     "execution_count": 39,
     "metadata": {},
     "output_type": "execute_result"
    },
    {
     "data": {
      "image/png": "[encoded data removed]",
      "text/plain": [
       "<Figure size 432x288 with 2 Axes>"
      ]
     },
     "metadata": {
      "needs_background": "light"
     },
     "output_type": "display_data"
    }
   ],
   "source": [
    "#Correlation plot\n",
    "\n",
    "sns.heatmap(ds1.corr())"
   ]
  },
  {
   "cell_type": "code",
   "execution_count": null,
   "metadata": {},
   "outputs": [],
   "source": []
  }
 ],
 "metadata": {
  "kernelspec": {
   "display_name": "Python 3.9.12 ('csir-env')",
   "language": "python",
   "name": "python3"
  },
  "language_info": {
   "codemirror_mode": {
    "name": "ipython",
    "version": 3
   },
   "file_extension": ".py",
   "mimetype": "text/x-python",
   "name": "python",
   "nbconvert_exporter": "python",
   "pygments_lexer": "ipython3",
   "version": "3.9.12"
  },
  "orig_nbformat": 4,
  "vscode": {
   "interpreter": {
    "hash": "8eed40589819f8e2c08314c30fbc820fcf92d670425a6a9e675796f96292ff75"
   }
  }
 },
 "nbformat": 4,
 "nbformat_minor": 2
}
